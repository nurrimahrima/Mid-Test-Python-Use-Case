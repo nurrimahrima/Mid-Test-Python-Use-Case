{
 "cells": [
  {
   "cell_type": "markdown",
   "metadata": {},
   "source": [
    "# Nomor 2 Mid - Test : Victoria Dataset\n",
    "**Deskripsi :** <br>\n",
    "Dataset berisi data deskripsi gedung, lingkungan, serta wilayah konservasi apartemen di Victoria yang terdiri atas 218 pengamatan. <br>\n",
    "Terdapat 16 variabel dalam data, yaitu :\n",
    "1. Total price\n",
    "2. Area\n",
    "3. Zone\n",
    "4. Category\n",
    "5. Age\n",
    "6. Floor\n",
    "7. Rooms\n",
    "8. Out\n",
    "9. Conservation\n",
    "10. Toilets\n",
    "11. Garage\n",
    "12. Elevator\n",
    "13. Street Category\n",
    "14. Heating\n",
    "15. Tras\n",
    "16. Row_Labels\n",
    "\n",
    "**Tujuan :** <br>\n",
    "Menentukan model terbaik serta alasan mengapa atas masalah :<br>\n",
    "Tony yang berprofesi sebagai broker ingin meramalkan harga apartemen di Victoria berdasarkan lingkungan ruang keluarga dan status konservasi apartemen. Tentukan model terbaik untuk memprediksi dan mendefinisikan kembali variabel konservasi baru dalam 3 level:\n",
    "- A = 1A\n",
    "- B = 2A \n",
    "- C = 2B dan 3A"
   ]
  },
  {
   "cell_type": "markdown",
   "metadata": {},
   "source": [
    "## Load the Required Libraries"
   ]
  },
  {
   "cell_type": "code",
   "execution_count": 31,
   "metadata": {},
   "outputs": [],
   "source": [
    "# For data loading and manipulation\n",
    "import pandas as pd\n",
    "import numpy as np\n",
    "from scipy import stats\n",
    "\n",
    "# For Visualization/EDA\n",
    "import matplotlib.pyplot as plt\n",
    "import seaborn as sns\n",
    "%matplotlib inline\n",
    "\n",
    "# For data science and machine learning techniques\n",
    "from sklearn.linear_model import LinearRegression\n",
    "from sklearn.model_selection import train_test_split\n",
    "from sklearn.metrics import mean_absolute_error\n",
    "from sklearn.metrics import mean_squared_error\n",
    "\n",
    "import warnings\n",
    "warnings.filterwarnings('ignore')"
   ]
  },
  {
   "cell_type": "markdown",
   "metadata": {},
   "source": [
    "## 1. Import Dataset : Load the Dataset"
   ]
  },
  {
   "cell_type": "code",
   "execution_count": 32,
   "metadata": {},
   "outputs": [],
   "source": [
    "df = pd.read_csv('victoria.csv')"
   ]
  },
  {
   "cell_type": "markdown",
   "metadata": {},
   "source": [
    "Jawab :<br>\n",
    "**Query yang dapat digunakan untuk load dan membagi data menjadi 2 bagian adalah seperti diatas**<br>\n",
    "- Load dataset menggunakan pandas dataframe 'pd.read_csv'<br>"
   ]
  },
  {
   "cell_type": "markdown",
   "metadata": {},
   "source": [
    "## 2. Exploratory Data Analysis: Create summary of the dataset, with python function. (mean, median, modus, max, min, range)"
   ]
  },
  {
   "cell_type": "code",
   "execution_count": 33,
   "metadata": {
    "scrolled": true
   },
   "outputs": [
    {
     "data": {
      "text/html": [
       "<div>\n",
       "<style scoped>\n",
       "    .dataframe tbody tr th:only-of-type {\n",
       "        vertical-align: middle;\n",
       "    }\n",
       "\n",
       "    .dataframe tbody tr th {\n",
       "        vertical-align: top;\n",
       "    }\n",
       "\n",
       "    .dataframe thead th {\n",
       "        text-align: right;\n",
       "    }\n",
       "</style>\n",
       "<table border=\"1\" class=\"dataframe\">\n",
       "  <thead>\n",
       "    <tr style=\"text-align: right;\">\n",
       "      <th></th>\n",
       "      <th>row.labels</th>\n",
       "      <th>totalprice</th>\n",
       "      <th>area</th>\n",
       "      <th>zone</th>\n",
       "      <th>category</th>\n",
       "      <th>age</th>\n",
       "      <th>floor</th>\n",
       "      <th>rooms</th>\n",
       "      <th>out</th>\n",
       "      <th>conservation</th>\n",
       "      <th>toilets</th>\n",
       "      <th>garage</th>\n",
       "      <th>elevator</th>\n",
       "      <th>streetcategory</th>\n",
       "      <th>heating</th>\n",
       "      <th>tras</th>\n",
       "    </tr>\n",
       "  </thead>\n",
       "  <tbody>\n",
       "    <tr>\n",
       "      <th>0</th>\n",
       "      <td>1</td>\n",
       "      <td>228000</td>\n",
       "      <td>7530999756</td>\n",
       "      <td>Z45</td>\n",
       "      <td>4B</td>\n",
       "      <td>33</td>\n",
       "      <td>3</td>\n",
       "      <td>5</td>\n",
       "      <td>E100</td>\n",
       "      <td>2B</td>\n",
       "      <td>1</td>\n",
       "      <td>0</td>\n",
       "      <td>1</td>\n",
       "      <td>S3</td>\n",
       "      <td>3A</td>\n",
       "      <td>0</td>\n",
       "    </tr>\n",
       "    <tr>\n",
       "      <th>1</th>\n",
       "      <td>2</td>\n",
       "      <td>409000</td>\n",
       "      <td>1006500015</td>\n",
       "      <td>Z31</td>\n",
       "      <td>3B</td>\n",
       "      <td>5</td>\n",
       "      <td>7</td>\n",
       "      <td>5</td>\n",
       "      <td>E50</td>\n",
       "      <td>1A</td>\n",
       "      <td>2</td>\n",
       "      <td>1</td>\n",
       "      <td>1</td>\n",
       "      <td>S5</td>\n",
       "      <td>4A</td>\n",
       "      <td>1</td>\n",
       "    </tr>\n",
       "    <tr>\n",
       "      <th>2</th>\n",
       "      <td>3</td>\n",
       "      <td>200000</td>\n",
       "      <td>8887000275</td>\n",
       "      <td>Z52</td>\n",
       "      <td>3A</td>\n",
       "      <td>14</td>\n",
       "      <td>8</td>\n",
       "      <td>5</td>\n",
       "      <td>E50</td>\n",
       "      <td>1A</td>\n",
       "      <td>2</td>\n",
       "      <td>0</td>\n",
       "      <td>1</td>\n",
       "      <td>S2</td>\n",
       "      <td>3A</td>\n",
       "      <td>0</td>\n",
       "    </tr>\n",
       "    <tr>\n",
       "      <th>3</th>\n",
       "      <td>4</td>\n",
       "      <td>180000</td>\n",
       "      <td>6261000061</td>\n",
       "      <td>Z62</td>\n",
       "      <td>4A</td>\n",
       "      <td>41</td>\n",
       "      <td>3</td>\n",
       "      <td>4</td>\n",
       "      <td>E50</td>\n",
       "      <td>2A</td>\n",
       "      <td>1</td>\n",
       "      <td>0</td>\n",
       "      <td>0</td>\n",
       "      <td>S3</td>\n",
       "      <td>1A</td>\n",
       "      <td>0</td>\n",
       "    </tr>\n",
       "    <tr>\n",
       "      <th>4</th>\n",
       "      <td>5</td>\n",
       "      <td>443600</td>\n",
       "      <td>1461499939</td>\n",
       "      <td>Z31</td>\n",
       "      <td>3A</td>\n",
       "      <td>22</td>\n",
       "      <td>6</td>\n",
       "      <td>7</td>\n",
       "      <td>E100</td>\n",
       "      <td>1A</td>\n",
       "      <td>2</td>\n",
       "      <td>0</td>\n",
       "      <td>1</td>\n",
       "      <td>S4</td>\n",
       "      <td>4A</td>\n",
       "      <td>1</td>\n",
       "    </tr>\n",
       "  </tbody>\n",
       "</table>\n",
       "</div>"
      ],
      "text/plain": [
       "   row.labels totalprice        area zone category  age  floor  rooms   out  \\\n",
       "0           1     228000  7530999756  Z45       4B   33      3      5  E100   \n",
       "1           2     409000  1006500015  Z31       3B    5      7      5   E50   \n",
       "2           3     200000  8887000275  Z52       3A   14      8      5   E50   \n",
       "3           4     180000  6261000061  Z62       4A   41      3      4   E50   \n",
       "4           5     443600  1461499939  Z31       3A   22      6      7  E100   \n",
       "\n",
       "  conservation  toilets  garage  elevator streetcategory heating  tras  \n",
       "0           2B        1       0         1             S3      3A     0  \n",
       "1           1A        2       1         1             S5      4A     1  \n",
       "2           1A        2       0         1             S2      3A     0  \n",
       "3           2A        1       0         0             S3      1A     0  \n",
       "4           1A        2       0         1             S4      4A     1  "
      ]
     },
     "execution_count": 33,
     "metadata": {},
     "output_type": "execute_result"
    }
   ],
   "source": [
    "#Head of data (default =5): 5 baris pertama dari data\n",
    "df.head()"
   ]
  },
  {
   "cell_type": "code",
   "execution_count": 34,
   "metadata": {},
   "outputs": [
    {
     "data": {
      "text/html": [
       "<div>\n",
       "<style scoped>\n",
       "    .dataframe tbody tr th:only-of-type {\n",
       "        vertical-align: middle;\n",
       "    }\n",
       "\n",
       "    .dataframe tbody tr th {\n",
       "        vertical-align: top;\n",
       "    }\n",
       "\n",
       "    .dataframe thead th {\n",
       "        text-align: right;\n",
       "    }\n",
       "</style>\n",
       "<table border=\"1\" class=\"dataframe\">\n",
       "  <thead>\n",
       "    <tr style=\"text-align: right;\">\n",
       "      <th></th>\n",
       "      <th>row.labels</th>\n",
       "      <th>totalprice</th>\n",
       "      <th>area</th>\n",
       "      <th>zone</th>\n",
       "      <th>category</th>\n",
       "      <th>age</th>\n",
       "      <th>floor</th>\n",
       "      <th>rooms</th>\n",
       "      <th>out</th>\n",
       "      <th>conservation</th>\n",
       "      <th>toilets</th>\n",
       "      <th>garage</th>\n",
       "      <th>elevator</th>\n",
       "      <th>streetcategory</th>\n",
       "      <th>heating</th>\n",
       "      <th>tras</th>\n",
       "    </tr>\n",
       "  </thead>\n",
       "  <tbody>\n",
       "    <tr>\n",
       "      <th>213</th>\n",
       "      <td>214</td>\n",
       "      <td>215000</td>\n",
       "      <td>7290000153</td>\n",
       "      <td>Z45</td>\n",
       "      <td>3B</td>\n",
       "      <td>18</td>\n",
       "      <td>3</td>\n",
       "      <td>4</td>\n",
       "      <td>E100</td>\n",
       "      <td>2A</td>\n",
       "      <td>1</td>\n",
       "      <td>0</td>\n",
       "      <td>0</td>\n",
       "      <td>S3</td>\n",
       "      <td>3A</td>\n",
       "      <td>1</td>\n",
       "    </tr>\n",
       "    <tr>\n",
       "      <th>214</th>\n",
       "      <td>215</td>\n",
       "      <td>340000</td>\n",
       "      <td>9561000061</td>\n",
       "      <td>Z56</td>\n",
       "      <td>2B</td>\n",
       "      <td>8</td>\n",
       "      <td>6</td>\n",
       "      <td>5</td>\n",
       "      <td>E50</td>\n",
       "      <td>1A</td>\n",
       "      <td>2</td>\n",
       "      <td>1</td>\n",
       "      <td>1</td>\n",
       "      <td>S3</td>\n",
       "      <td>3A</td>\n",
       "      <td>1</td>\n",
       "    </tr>\n",
       "    <tr>\n",
       "      <th>215</th>\n",
       "      <td>216</td>\n",
       "      <td>280000</td>\n",
       "      <td>8322000122</td>\n",
       "      <td>Z34</td>\n",
       "      <td>3B</td>\n",
       "      <td>29</td>\n",
       "      <td>7</td>\n",
       "      <td>5</td>\n",
       "      <td>E50</td>\n",
       "      <td>2B</td>\n",
       "      <td>1</td>\n",
       "      <td>1</td>\n",
       "      <td>1</td>\n",
       "      <td>S3</td>\n",
       "      <td>4A</td>\n",
       "      <td>1</td>\n",
       "    </tr>\n",
       "    <tr>\n",
       "      <th>216</th>\n",
       "      <td>217</td>\n",
       "      <td>224000</td>\n",
       "      <td>7920999908</td>\n",
       "      <td>Z38</td>\n",
       "      <td>4A</td>\n",
       "      <td>6</td>\n",
       "      <td>3</td>\n",
       "      <td>4</td>\n",
       "      <td>E100</td>\n",
       "      <td>1A</td>\n",
       "      <td>1</td>\n",
       "      <td>0</td>\n",
       "      <td>1</td>\n",
       "      <td>S3</td>\n",
       "      <td>3A</td>\n",
       "      <td>1</td>\n",
       "    </tr>\n",
       "    <tr>\n",
       "      <th>217</th>\n",
       "      <td>218</td>\n",
       "      <td>237000</td>\n",
       "      <td>8138999939</td>\n",
       "      <td>Z61</td>\n",
       "      <td>4B</td>\n",
       "      <td>20</td>\n",
       "      <td>2</td>\n",
       "      <td>4</td>\n",
       "      <td>E100</td>\n",
       "      <td>2B</td>\n",
       "      <td>1</td>\n",
       "      <td>0</td>\n",
       "      <td>1</td>\n",
       "      <td>S4</td>\n",
       "      <td>4A</td>\n",
       "      <td>1</td>\n",
       "    </tr>\n",
       "  </tbody>\n",
       "</table>\n",
       "</div>"
      ],
      "text/plain": [
       "     row.labels totalprice        area zone category  age  floor  rooms   out  \\\n",
       "213         214     215000  7290000153  Z45       3B   18      3      4  E100   \n",
       "214         215     340000  9561000061  Z56       2B    8      6      5   E50   \n",
       "215         216     280000  8322000122  Z34       3B   29      7      5   E50   \n",
       "216         217     224000  7920999908  Z38       4A    6      3      4  E100   \n",
       "217         218     237000  8138999939  Z61       4B   20      2      4  E100   \n",
       "\n",
       "    conservation  toilets  garage  elevator streetcategory heating  tras  \n",
       "213           2A        1       0         0             S3      3A     1  \n",
       "214           1A        2       1         1             S3      3A     1  \n",
       "215           2B        1       1         1             S3      4A     1  \n",
       "216           1A        1       0         1             S3      3A     1  \n",
       "217           2B        1       0         1             S4      4A     1  "
      ]
     },
     "execution_count": 34,
     "metadata": {},
     "output_type": "execute_result"
    }
   ],
   "source": [
    "#Tail of data (default =5): 5 baris terakhir dari data\n",
    "df.tail()"
   ]
  },
  {
   "cell_type": "code",
   "execution_count": 35,
   "metadata": {},
   "outputs": [
    {
     "data": {
      "text/plain": [
       "(218, 16)"
      ]
     },
     "execution_count": 35,
     "metadata": {},
     "output_type": "execute_result"
    }
   ],
   "source": [
    "df.shape"
   ]
  },
  {
   "cell_type": "code",
   "execution_count": 36,
   "metadata": {},
   "outputs": [
    {
     "data": {
      "text/html": [
       "<div>\n",
       "<style scoped>\n",
       "    .dataframe tbody tr th:only-of-type {\n",
       "        vertical-align: middle;\n",
       "    }\n",
       "\n",
       "    .dataframe tbody tr th {\n",
       "        vertical-align: top;\n",
       "    }\n",
       "\n",
       "    .dataframe thead th {\n",
       "        text-align: right;\n",
       "    }\n",
       "</style>\n",
       "<table border=\"1\" class=\"dataframe\">\n",
       "  <thead>\n",
       "    <tr style=\"text-align: right;\">\n",
       "      <th></th>\n",
       "      <th>row.labels</th>\n",
       "      <th>totalprice</th>\n",
       "      <th>area</th>\n",
       "      <th>zone</th>\n",
       "      <th>category</th>\n",
       "      <th>age</th>\n",
       "      <th>floor</th>\n",
       "      <th>rooms</th>\n",
       "      <th>out</th>\n",
       "      <th>conservation</th>\n",
       "      <th>toilets</th>\n",
       "      <th>garage</th>\n",
       "      <th>elevator</th>\n",
       "      <th>streetcategory</th>\n",
       "      <th>heating</th>\n",
       "      <th>tras</th>\n",
       "    </tr>\n",
       "  </thead>\n",
       "  <tbody>\n",
       "    <tr>\n",
       "      <th>0</th>\n",
       "      <td>1</td>\n",
       "      <td>270000</td>\n",
       "      <td>1061500015</td>\n",
       "      <td>Z41</td>\n",
       "      <td>3B</td>\n",
       "      <td>11.0</td>\n",
       "      <td>3.0</td>\n",
       "      <td>5.0</td>\n",
       "      <td>E100</td>\n",
       "      <td>1A</td>\n",
       "      <td>1.0</td>\n",
       "      <td>0.0</td>\n",
       "      <td>1.0</td>\n",
       "      <td>S3</td>\n",
       "      <td>3A</td>\n",
       "      <td>1.0</td>\n",
       "    </tr>\n",
       "  </tbody>\n",
       "</table>\n",
       "</div>"
      ],
      "text/plain": [
       "   row.labels totalprice        area zone category   age  floor  rooms   out  \\\n",
       "0           1     270000  1061500015  Z41       3B  11.0    3.0    5.0  E100   \n",
       "\n",
       "  conservation  toilets  garage  elevator streetcategory heating  tras  \n",
       "0           1A      1.0     0.0       1.0             S3      3A   1.0  "
      ]
     },
     "execution_count": 36,
     "metadata": {},
     "output_type": "execute_result"
    }
   ],
   "source": [
    "df.mode().head(1)"
   ]
  },
  {
   "cell_type": "code",
   "execution_count": 37,
   "metadata": {},
   "outputs": [
    {
     "name": "stdout",
     "output_type": "stream",
     "text": [
      "Index(['row.labels', 'totalprice', 'area', 'zone', 'category', 'age', 'floor',\n",
      "       'rooms', 'out', 'conservation', 'toilets', 'garage', 'elevator',\n",
      "       'streetcategory', 'heating', 'tras'],\n",
      "      dtype='object')\n"
     ]
    }
   ],
   "source": [
    "print(df.columns)"
   ]
  },
  {
   "cell_type": "code",
   "execution_count": 38,
   "metadata": {},
   "outputs": [
    {
     "data": {
      "text/plain": [
       "row.labels    109.5\n",
       "age            16.0\n",
       "floor           4.0\n",
       "rooms           5.0\n",
       "toilets         1.0\n",
       "garage          0.0\n",
       "elevator        1.0\n",
       "tras            1.0\n",
       "dtype: float64"
      ]
     },
     "execution_count": 38,
     "metadata": {},
     "output_type": "execute_result"
    }
   ],
   "source": [
    "df.median()"
   ]
  },
  {
   "cell_type": "code",
   "execution_count": 39,
   "metadata": {},
   "outputs": [
    {
     "data": {
      "text/plain": [
       "row.labels        0\n",
       "totalprice        0\n",
       "area              0\n",
       "zone              0\n",
       "category          0\n",
       "age               0\n",
       "floor             0\n",
       "rooms             0\n",
       "out               0\n",
       "conservation      0\n",
       "toilets           0\n",
       "garage            0\n",
       "elevator          0\n",
       "streetcategory    0\n",
       "heating           0\n",
       "tras              0\n",
       "dtype: int64"
      ]
     },
     "execution_count": 39,
     "metadata": {},
     "output_type": "execute_result"
    }
   ],
   "source": [
    "df.isnull().sum()"
   ]
  },
  {
   "cell_type": "code",
   "execution_count": 40,
   "metadata": {},
   "outputs": [
    {
     "name": "stdout",
     "output_type": "stream",
     "text": [
      "<class 'pandas.core.frame.DataFrame'>\n",
      "RangeIndex: 218 entries, 0 to 217\n",
      "Data columns (total 16 columns):\n",
      "row.labels        218 non-null int64\n",
      "totalprice        218 non-null object\n",
      "area              218 non-null object\n",
      "zone              218 non-null object\n",
      "category          218 non-null object\n",
      "age               218 non-null int64\n",
      "floor             218 non-null int64\n",
      "rooms             218 non-null int64\n",
      "out               218 non-null object\n",
      "conservation      218 non-null object\n",
      "toilets           218 non-null int64\n",
      "garage            218 non-null int64\n",
      "elevator          218 non-null int64\n",
      "streetcategory    218 non-null object\n",
      "heating           218 non-null object\n",
      "tras              218 non-null int64\n",
      "dtypes: int64(8), object(8)\n",
      "memory usage: 27.3+ KB\n"
     ]
    }
   ],
   "source": [
    "#Info tipe data, dimensi, memory, dll\n",
    "df.info()"
   ]
  },
  {
   "cell_type": "code",
   "execution_count": 41,
   "metadata": {},
   "outputs": [
    {
     "data": {
      "text/plain": [
       "row.labels         int64\n",
       "totalprice        object\n",
       "area              object\n",
       "zone              object\n",
       "category          object\n",
       "age                int64\n",
       "floor              int64\n",
       "rooms              int64\n",
       "out               object\n",
       "conservation      object\n",
       "toilets            int64\n",
       "garage             int64\n",
       "elevator           int64\n",
       "streetcategory    object\n",
       "heating           object\n",
       "tras               int64\n",
       "dtype: object"
      ]
     },
     "execution_count": 41,
     "metadata": {},
     "output_type": "execute_result"
    }
   ],
   "source": [
    "df.dtypes"
   ]
  },
  {
   "cell_type": "markdown",
   "metadata": {},
   "source": [
    "Dapat dilihat bahwa variabel 'totalprice' dan 'area' memiliki tipe *string*, maka perlu diubah menjadi tipe data *numerik*. Selanjutnya, masih terdapat ',' sebagai pemisah masing-masing angka dimana seharusnya pemisah yang digunakan adalah '.', sehingga perlu diubah agar dapat dilakukan analisis lebih lanjut menggunakan *regular expression*"
   ]
  },
  {
   "cell_type": "code",
   "execution_count": 42,
   "metadata": {},
   "outputs": [],
   "source": [
    "#Regular Expression untuk mengubah pemisah (ekspresi) pada data\n",
    "df['totalprice'] = df['totalprice'].replace(r'[,]','', regex=True)\n",
    "df['area'] = df['area'].replace(r'[,]','', regex=True)"
   ]
  },
  {
   "cell_type": "code",
   "execution_count": 43,
   "metadata": {},
   "outputs": [],
   "source": [
    "#Convert string to numeric\n",
    "df['totalprice'] = pd.to_numeric(df['totalprice'])\n",
    "df['area'] = pd.to_numeric(df['area'])"
   ]
  },
  {
   "cell_type": "code",
   "execution_count": 84,
   "metadata": {},
   "outputs": [
    {
     "name": "stdout",
     "output_type": "stream",
     "text": [
      "<class 'pandas.core.frame.DataFrame'>\n",
      "RangeIndex: 218 entries, 0 to 217\n",
      "Data columns (total 17 columns):\n",
      "row.labels        218 non-null int64\n",
      "totalprice        218 non-null int64\n",
      "area              218 non-null int64\n",
      "zone              218 non-null object\n",
      "category          218 non-null object\n",
      "age               218 non-null int64\n",
      "floor             218 non-null int64\n",
      "rooms             218 non-null int64\n",
      "out               218 non-null object\n",
      "conservation      218 non-null object\n",
      "toilets           218 non-null int64\n",
      "garage            218 non-null int64\n",
      "elevator          218 non-null int64\n",
      "streetcategory    218 non-null object\n",
      "heating           218 non-null object\n",
      "tras              218 non-null int64\n",
      "age_range         218 non-null category\n",
      "dtypes: category(1), int64(10), object(6)\n",
      "memory usage: 27.6+ KB\n"
     ]
    }
   ],
   "source": [
    "df.info()"
   ]
  },
  {
   "cell_type": "code",
   "execution_count": 45,
   "metadata": {
    "scrolled": true
   },
   "outputs": [
    {
     "data": {
      "text/html": [
       "<div>\n",
       "<style scoped>\n",
       "    .dataframe tbody tr th:only-of-type {\n",
       "        vertical-align: middle;\n",
       "    }\n",
       "\n",
       "    .dataframe tbody tr th {\n",
       "        vertical-align: top;\n",
       "    }\n",
       "\n",
       "    .dataframe thead th {\n",
       "        text-align: right;\n",
       "    }\n",
       "</style>\n",
       "<table border=\"1\" class=\"dataframe\">\n",
       "  <thead>\n",
       "    <tr style=\"text-align: right;\">\n",
       "      <th></th>\n",
       "      <th>row.labels</th>\n",
       "      <th>totalprice</th>\n",
       "      <th>area</th>\n",
       "      <th>age</th>\n",
       "      <th>floor</th>\n",
       "      <th>rooms</th>\n",
       "      <th>toilets</th>\n",
       "      <th>garage</th>\n",
       "      <th>elevator</th>\n",
       "      <th>tras</th>\n",
       "    </tr>\n",
       "  </thead>\n",
       "  <tbody>\n",
       "    <tr>\n",
       "      <th>count</th>\n",
       "      <td>218.00</td>\n",
       "      <td>218.00</td>\n",
       "      <td>2.180000e+02</td>\n",
       "      <td>218.0</td>\n",
       "      <td>218.00</td>\n",
       "      <td>218.00</td>\n",
       "      <td>218.00</td>\n",
       "      <td>218.00</td>\n",
       "      <td>218.0</td>\n",
       "      <td>218.00</td>\n",
       "    </tr>\n",
       "    <tr>\n",
       "      <th>mean</th>\n",
       "      <td>109.50</td>\n",
       "      <td>288543.54</td>\n",
       "      <td>5.718657e+09</td>\n",
       "      <td>19.9</td>\n",
       "      <td>4.44</td>\n",
       "      <td>4.85</td>\n",
       "      <td>1.47</td>\n",
       "      <td>0.24</td>\n",
       "      <td>0.8</td>\n",
       "      <td>0.81</td>\n",
       "    </tr>\n",
       "    <tr>\n",
       "      <th>std</th>\n",
       "      <td>63.08</td>\n",
       "      <td>128972.26</td>\n",
       "      <td>3.455007e+09</td>\n",
       "      <td>14.6</td>\n",
       "      <td>2.13</td>\n",
       "      <td>0.63</td>\n",
       "      <td>0.50</td>\n",
       "      <td>0.45</td>\n",
       "      <td>0.4</td>\n",
       "      <td>0.41</td>\n",
       "    </tr>\n",
       "    <tr>\n",
       "      <th>min</th>\n",
       "      <td>1.00</td>\n",
       "      <td>155000.00</td>\n",
       "      <td>5.300000e+01</td>\n",
       "      <td>1.0</td>\n",
       "      <td>1.00</td>\n",
       "      <td>3.00</td>\n",
       "      <td>1.00</td>\n",
       "      <td>0.00</td>\n",
       "      <td>0.0</td>\n",
       "      <td>0.00</td>\n",
       "    </tr>\n",
       "    <tr>\n",
       "      <th>25%</th>\n",
       "      <td>55.25</td>\n",
       "      <td>230000.00</td>\n",
       "      <td>1.187250e+09</td>\n",
       "      <td>11.0</td>\n",
       "      <td>3.00</td>\n",
       "      <td>5.00</td>\n",
       "      <td>1.00</td>\n",
       "      <td>0.00</td>\n",
       "      <td>1.0</td>\n",
       "      <td>1.00</td>\n",
       "    </tr>\n",
       "    <tr>\n",
       "      <th>50%</th>\n",
       "      <td>109.50</td>\n",
       "      <td>270000.00</td>\n",
       "      <td>7.118500e+09</td>\n",
       "      <td>16.0</td>\n",
       "      <td>4.00</td>\n",
       "      <td>5.00</td>\n",
       "      <td>1.00</td>\n",
       "      <td>0.00</td>\n",
       "      <td>1.0</td>\n",
       "      <td>1.00</td>\n",
       "    </tr>\n",
       "    <tr>\n",
       "      <th>75%</th>\n",
       "      <td>163.75</td>\n",
       "      <td>329750.00</td>\n",
       "      <td>8.542750e+09</td>\n",
       "      <td>24.0</td>\n",
       "      <td>5.00</td>\n",
       "      <td>5.00</td>\n",
       "      <td>2.00</td>\n",
       "      <td>0.00</td>\n",
       "      <td>1.0</td>\n",
       "      <td>1.00</td>\n",
       "    </tr>\n",
       "    <tr>\n",
       "      <th>max</th>\n",
       "      <td>218.00</td>\n",
       "      <td>1889822.00</td>\n",
       "      <td>9.992000e+09</td>\n",
       "      <td>118.0</td>\n",
       "      <td>12.00</td>\n",
       "      <td>7.00</td>\n",
       "      <td>2.00</td>\n",
       "      <td>2.00</td>\n",
       "      <td>1.0</td>\n",
       "      <td>2.00</td>\n",
       "    </tr>\n",
       "  </tbody>\n",
       "</table>\n",
       "</div>"
      ],
      "text/plain": [
       "       row.labels  totalprice          area    age   floor   rooms  toilets  \\\n",
       "count      218.00      218.00  2.180000e+02  218.0  218.00  218.00   218.00   \n",
       "mean       109.50   288543.54  5.718657e+09   19.9    4.44    4.85     1.47   \n",
       "std         63.08   128972.26  3.455007e+09   14.6    2.13    0.63     0.50   \n",
       "min          1.00   155000.00  5.300000e+01    1.0    1.00    3.00     1.00   \n",
       "25%         55.25   230000.00  1.187250e+09   11.0    3.00    5.00     1.00   \n",
       "50%        109.50   270000.00  7.118500e+09   16.0    4.00    5.00     1.00   \n",
       "75%        163.75   329750.00  8.542750e+09   24.0    5.00    5.00     2.00   \n",
       "max        218.00  1889822.00  9.992000e+09  118.0   12.00    7.00     2.00   \n",
       "\n",
       "       garage  elevator    tras  \n",
       "count  218.00     218.0  218.00  \n",
       "mean     0.24       0.8    0.81  \n",
       "std      0.45       0.4    0.41  \n",
       "min      0.00       0.0    0.00  \n",
       "25%      0.00       1.0    1.00  \n",
       "50%      0.00       1.0    1.00  \n",
       "75%      0.00       1.0    1.00  \n",
       "max      2.00       1.0    2.00  "
      ]
     },
     "execution_count": 45,
     "metadata": {},
     "output_type": "execute_result"
    }
   ],
   "source": [
    "df.describe().round(2)"
   ]
  },
  {
   "cell_type": "markdown",
   "metadata": {},
   "source": [
    "**Method \"Describe\" diatas menghasilkan analisis statistika deskriptif, dimana dari hasil pada tabel tersebut dapat dilihat bahwa :**<br>\n",
    "1. Rata-Rata usia apartemen tersebut adalah 20 dengan maksimum usia nya adalah 118 dan minimum usia nya adalah 1 dengan nilai persebaran setiap titik data ke nilai rata-rata adalah 14 yang cukup bagus.\n",
    "2. Jumlah laintai di setiap apartemen yang rata-rata nya adalah 4 dengan maksimum jumlah lantai adalah 12 dan minimum jumlah lantai adalah 1.\n",
    "3. Namun, dengan lantai yang cukup bervariasi di beberapa gedung, elevator dan toilet yang disediakan kurang memadai karena maksimum toilet dan elevator pada apartemen di Victoria adalah 2 dan 1 secara berurutan. \n",
    "4. Jumlah ruangan di setiap apartemen tsb rata-rata nya adalah 4 dengan maksimum jumlah ruangan adalah 7 dan minimum jumlah ruangan adalah 3.\n",
    "5. dsb"
   ]
  },
  {
   "cell_type": "markdown",
   "metadata": {},
   "source": [
    "Jawab :<br>\n",
    "**Summary dari dataset dapat dilihat menggunakan query-query diatas, summary ini berguna untuk memahami data (Data Understanding) yang akan dianalisis agar menghasilkan analisis yang tepat dan sesuai.**<br>\n",
    "**'Describe' adalah method yang paling umum untuk mengetahui langsung summary tentang data**<Br>\n",
    "**Dapat disimpulkan bahwa data 'victoria.csv'** :<Br>\n",
    "- Variabel memiliki tipe data yang beragam yaitu bersifat integer dan string<Br>\n",
    "- Data memiliki dimensi (218, 16) yang artinya 218 rows dan 16 columns <br>\n",
    "- Data tidak memiliki missing value<br>\n",
    "- Rata-rata menunjukkan level data dalam analisis<br>\n",
    "- Standar deviasi yang menunjukkan nilai persebaran setiap titik diantara nilai mean yang sesuai.<br>\n",
    "- dsb."
   ]
  },
  {
   "cell_type": "code",
   "execution_count": 52,
   "metadata": {},
   "outputs": [
    {
     "data": {
      "text/plain": [
       "array([ 3,  7,  8,  6,  4,  5,  2,  9, 12, 10,  1, 11], dtype=int64)"
      ]
     },
     "execution_count": 52,
     "metadata": {},
     "output_type": "execute_result"
    }
   ],
   "source": [
    "df['floor'].unique()"
   ]
  },
  {
   "cell_type": "markdown",
   "metadata": {},
   "source": [
    "## 3. Data Visualization"
   ]
  },
  {
   "cell_type": "markdown",
   "metadata": {},
   "source": [
    "### Pertama, membuat plot distribusi normal dan regresi linier."
   ]
  },
  {
   "cell_type": "code",
   "execution_count": 46,
   "metadata": {},
   "outputs": [
    {
     "data": {
      "image/png": "[encoded data removed]",
      "text/plain": [
       "<matplotlib.figure.Figure at 0x1490a1be4a8>"
      ]
     },
     "metadata": {},
     "output_type": "display_data"
    },
    {
     "data": {
      "image/png": "[encoded data removed]",
      "text/plain": [
       "<matplotlib.figure.Figure at 0x1490a2e93c8>"
      ]
     },
     "metadata": {},
     "output_type": "display_data"
    }
   ],
   "source": [
    "plt.subplots(figsize=(10,8))\n",
    "sns.distplot(df['totalprice'], fit=stats.norm)\n",
    "\n",
    "# Get the fitted parameters used by the function\n",
    "\n",
    "(mu, sigma) = stats.norm.fit(df['totalprice'])\n",
    "\n",
    "# plot with the distribution\n",
    "\n",
    "plt.legend(['Normal dist. ($\\mu=$ {:.2f} and $\\sigma=$ {:.2f} )'.format(mu, sigma)], loc='best')\n",
    "plt.ylabel('Frequency')\n",
    "\n",
    "#Probablity plot\n",
    "\n",
    "fig = plt.figure()\n",
    "stats.probplot(df['totalprice'], plot=plt)\n",
    "plt.show()"
   ]
  },
  {
   "cell_type": "markdown",
   "metadata": {},
   "source": [
    "**Dapat dilihat bahwa distribusi yang dihasilkan adalah cenderung ke kiri atau positive skewed normal distribution, maka harus ditransformasi.<br>\n",
    "Transformasi ini menggunakan log function.**"
   ]
  },
  {
   "cell_type": "code",
   "execution_count": 47,
   "metadata": {},
   "outputs": [
    {
     "data": {
      "image/png": "[encoded data removed]",
      "text/plain": [
       "<matplotlib.figure.Figure at 0x1490a1bef28>"
      ]
     },
     "metadata": {},
     "output_type": "display_data"
    },
    {
     "data": {
      "image/png": "[encoded data removed]",
      "text/plain": [
       "<matplotlib.figure.Figure at 0x1490a1bbb70>"
      ]
     },
     "metadata": {},
     "output_type": "display_data"
    }
   ],
   "source": [
    "#we use log function which is in numpy\n",
    "df['totalprice'] = np.log1p(df['totalprice'])\n",
    "\n",
    "#Check again for more normal distribution\n",
    "\n",
    "plt.subplots(figsize=(10,8))\n",
    "sns.distplot(df['totalprice'], fit=stats.norm)\n",
    "\n",
    "# Get the fitted parameters used by the function\n",
    "\n",
    "(mu, sigma) = stats.norm.fit(df['totalprice'])\n",
    "\n",
    "# plot with the distribution\n",
    "\n",
    "plt.legend(['Normal dist. ($\\mu=$ {:.2f} and $\\sigma=$ {:.2f} )'.format(mu, sigma)], loc='best')\n",
    "plt.ylabel('Frequency')\n",
    "\n",
    "#Probablity plot\n",
    "\n",
    "fig = plt.figure()\n",
    "stats.probplot(df['totalprice'], plot=plt)\n",
    "plt.show()"
   ]
  },
  {
   "cell_type": "markdown",
   "metadata": {},
   "source": [
    "**Dari hasil transformasi dapat dilihat bahwa distribusi nya sudah normal dan dapat dikatakan bahwa harga dari apartemen memiliki rata-rata = 12.53 atau kisaran 'totalprice' = 280000.**<br>\n",
    "**Dapat dilihat jugfa bahwa 'totalprice' memiliki persebaran yang membentuk distribusi normal yang artinya 'totalprice' ini dapat dilakukan analisis lebih lanjut dengan model machine learning yang memngharuskan data bersifat distribusi normal.**"
   ]
  },
  {
   "cell_type": "code",
   "execution_count": 89,
   "metadata": {},
   "outputs": [],
   "source": [
    "df = pd.read_csv('victoria.csv')\n",
    "df['totalprice'] = df['totalprice'].replace(r'[,]','', regex=True)\n",
    "df['area'] = df['area'].replace(r'[,]','', regex=True)\n",
    "df['totalprice'] = pd.to_numeric(df['totalprice'])\n",
    "df['area'] = pd.to_numeric(df['area'])"
   ]
  },
  {
   "cell_type": "markdown",
   "metadata": {},
   "source": [
    "### Selanjutnya, dapat dilihat korelasi antar variabel menggunakan plot heatmap agar korelasi dapat mudah terlihat"
   ]
  },
  {
   "cell_type": "code",
   "execution_count": 72,
   "metadata": {},
   "outputs": [
    {
     "data": {
      "text/plain": [
       "<matplotlib.axes._subplots.AxesSubplot at 0x1490a1bdbe0>"
      ]
     },
     "execution_count": 72,
     "metadata": {},
     "output_type": "execute_result"
    },
    {
     "data": {
      "image/png": "[encoded data removed]",
      "text/plain": [
       "<matplotlib.figure.Figure at 0x1490aaedcf8>"
      ]
     },
     "metadata": {},
     "output_type": "display_data"
    }
   ],
   "source": [
    "#create correlation with heatmap\n",
    "corr = df.corr(method = 'pearson')\n",
    "#convert correlation to numpy array\n",
    "mask = np.array(corr)\n",
    "#to mask the repetitive value for each pair\n",
    "mask[np.tril_indices_from(mask)] = False\n",
    "fig, ax = plt.subplots(figsize = (15,12))\n",
    "fig.set_size_inches(20,10)\n",
    "sns.heatmap(corr, \n",
    "            mask = mask, \n",
    "            vmax = 0.9, \n",
    "            square = True, \n",
    "            annot = True)"
   ]
  },
  {
   "cell_type": "markdown",
   "metadata": {},
   "source": [
    "**Dapat dilihat bahwa korelasi tertinggi dari variabel-variable tersebut adalah** <br>\n",
    "- 'garage' dan 'elevator' dengan 'toilets' sebesar 0.45 <br>\n",
    "- 'toilets' dengan 'rooms' sebesar 0.42 <Br>\n",
    "    \n",
    "**yang dapat dikatakan bahwa terdapat korelasi positif yang lumayan tinggi antar dua variabel tersebut terutama adalah 'garage' dan 'elevator' dengan 'toilets'**<br>\n",
    "\n",
    "**Juga dapat dilihat bahwa korelasi terendah dari variabel-variable tersebut adalah** <br>\n",
    "- 'elevator' dengan 'age' sebesar -0.41 <Br>\n",
    "- 'area' dengan 'rooms' dan 'toilets' sebesar -0.28 <br>"
   ]
  },
  {
   "cell_type": "markdown",
   "metadata": {},
   "source": [
    "### Barplot Analysis dengan totalprice"
   ]
  },
  {
   "cell_type": "code",
   "execution_count": 74,
   "metadata": {},
   "outputs": [
    {
     "data": {
      "text/plain": [
       "<matplotlib.axes._subplots.AxesSubplot at 0x1490b0558d0>"
      ]
     },
     "execution_count": 74,
     "metadata": {},
     "output_type": "execute_result"
    },
    {
     "data": {
      "image/png": "[encoded data removed]",
      "text/plain": [
       "<matplotlib.figure.Figure at 0x1490b055780>"
      ]
     },
     "metadata": {},
     "output_type": "display_data"
    }
   ],
   "source": [
    "#Barplot analysis antara floors dengan totalprice\n",
    "plt.figure(figsize=(8, 8))\n",
    "sns.barplot(x=df.floor, y=df.totalprice)"
   ]
  },
  {
   "cell_type": "markdown",
   "metadata": {},
   "source": [
    "**Dapat dilihat bahwa banyaknya lantai memberikan pengaruh kepada harga penjualan apartemen** :<br>\n",
    "1. Dapat dilihat bahwa terdapat fluktuasi pergerakan harga terhadap jumlah lantai pada gedung dengan harga minimum pada jumlah lantai 1 dan harga maksimum pada jumlah lantai 4.\n",
    "2. Seperti yang telah disebutkan sebelumnya, jumlah lantai apartemen yang memiliki kisaran harga rata-rata yaitu sebesar 280000 adalah apartemen dengan jumlah lantai 2 hingga 7.\n",
    "3. Dengan harga maksimum pada jumlah lantai 4 dapat diasumsikan bahwa apartemen dengan jumlah lantai 4 kemungkinan merupakan yang paling banyak dicari oleh konsumen\n",
    "4. Walaupun jumlah lantai apartemen berpengaruh terhdap harga apartemen namun semakin banyak jumlah lantainya tidak menjamin harganya juga akan semakin tinggi, harga apartemen di Victoria berdasarkan jumlah lantai nya adalah bervariasi dengan yang paling populer adalah apartemen dengan jumlah lantai 4.\n",
    "5. dsb"
   ]
  },
  {
   "cell_type": "code",
   "execution_count": 79,
   "metadata": {},
   "outputs": [
    {
     "data": {
      "text/plain": [
       "<matplotlib.axes._subplots.AxesSubplot at 0x1490ca378d0>"
      ]
     },
     "execution_count": 79,
     "metadata": {},
     "output_type": "execute_result"
    },
    {
     "data": {
      "image/png": "[encoded data removed]",
      "text/plain": [
       "<matplotlib.figure.Figure at 0x1490b575438>"
      ]
     },
     "metadata": {},
     "output_type": "display_data"
    }
   ],
   "source": [
    "#Barplot analysis antara totalprice dan rooms\n",
    "sns.barplot(data=df, x=df['rooms'], y=df['totalprice'], color='chocolate')"
   ]
  },
  {
   "cell_type": "markdown",
   "metadata": {},
   "source": [
    "**Dapat dilihat bahwa banyaknya ruangan memberikan pengaruh kepada harga penjualan apartemen** :<br>\n",
    "1. Dari plot diatas dapat dikatakan bahwa semakin banyak ruangannya maka semakin mahal harga apartemen tersebut"
   ]
  },
  {
   "cell_type": "markdown",
   "metadata": {},
   "source": [
    "### Box plot Analysis with totalprice"
   ]
  },
  {
   "cell_type": "code",
   "execution_count": 82,
   "metadata": {
    "scrolled": true
   },
   "outputs": [
    {
     "data": {
      "image/png": "[encoded data removed]",
      "text/plain": [
       "<matplotlib.figure.Figure at 0x1490aa2ab38>"
      ]
     },
     "metadata": {},
     "output_type": "display_data"
    }
   ],
   "source": [
    "#Boxplot analysis antara age_range aprtemen ke dalam 20 range dengan totalprice\n",
    "df['age_range'] = pd.cut(df['age'], bins=range(0, 121, 20))\n",
    "ax = sns.boxplot(x=\"age_range\", y=\"totalprice\", data=df)"
   ]
  },
  {
   "cell_type": "markdown",
   "metadata": {},
   "source": [
    "**Dapat dilihat bahwa usia apartemen memberikan pengaruh kepada harga penjualan apartemen tersebut** :<br>\n",
    "1. Terdapat outlier harga pada range usia apartemen (0,20] dan (20,40]\n",
    "2. Rentang usia apartemen dengan harga yang paling variatif adalah (20,40] yang berarti\n",
    "3. Untuk rentang usia apartemen (60,80] dan (100,120] harga yang ditawarkan cenderung konstan dan tidak bervariasi yaitu +- sekitar 12\n",
    "4. dsb"
   ]
  },
  {
   "cell_type": "markdown",
   "metadata": {},
   "source": [
    "## 4. Variable Selection: Choose the variable and its reason."
   ]
  },
  {
   "cell_type": "code",
   "execution_count": 85,
   "metadata": {},
   "outputs": [
    {
     "name": "stdout",
     "output_type": "stream",
     "text": [
      "<class 'pandas.core.frame.DataFrame'>\n",
      "RangeIndex: 218 entries, 0 to 217\n",
      "Data columns (total 17 columns):\n",
      "row.labels        218 non-null int64\n",
      "totalprice        218 non-null int64\n",
      "area              218 non-null int64\n",
      "zone              218 non-null object\n",
      "category          218 non-null object\n",
      "age               218 non-null int64\n",
      "floor             218 non-null int64\n",
      "rooms             218 non-null int64\n",
      "out               218 non-null object\n",
      "conservation      218 non-null object\n",
      "toilets           218 non-null int64\n",
      "garage            218 non-null int64\n",
      "elevator          218 non-null int64\n",
      "streetcategory    218 non-null object\n",
      "heating           218 non-null object\n",
      "tras              218 non-null int64\n",
      "age_range         218 non-null category\n",
      "dtypes: category(1), int64(10), object(6)\n",
      "memory usage: 27.6+ KB\n"
     ]
    }
   ],
   "source": [
    "df.info()"
   ]
  },
  {
   "cell_type": "markdown",
   "metadata": {},
   "source": [
    "**Dalam hal ini, saya akan memilih variabel yang bersifat numerik karena dalam pemodelan machine learning lebih mudah untuk di analisis, yakni variabel-variabel yang akan dipilih adalah :**<br>\n",
    "- totalprice\n",
    "- age\n",
    "- floor\n",
    "- rooms\n",
    "- toilets\n",
    "- garage\n",
    "- elevator\n",
    "\n",
    "**Dengan :**<br>\n",
    "**variabel y =** 'totalprice'<br>\n",
    "**variabel x =** 'age', 'floor', 'rooms', 'toilets', 'garage', 'elevator'"
   ]
  },
  {
   "cell_type": "markdown",
   "metadata": {},
   "source": [
    "## 5. Modelling: Create models using Regression\n",
    "Sebelum melakukan pemodelan perlu dilakukan penghapusan variabel data yang tidak dibutuhkan"
   ]
  },
  {
   "cell_type": "code",
   "execution_count": 90,
   "metadata": {},
   "outputs": [
    {
     "data": {
      "text/html": [
       "<div>\n",
       "<style scoped>\n",
       "    .dataframe tbody tr th:only-of-type {\n",
       "        vertical-align: middle;\n",
       "    }\n",
       "\n",
       "    .dataframe tbody tr th {\n",
       "        vertical-align: top;\n",
       "    }\n",
       "\n",
       "    .dataframe thead th {\n",
       "        text-align: right;\n",
       "    }\n",
       "</style>\n",
       "<table border=\"1\" class=\"dataframe\">\n",
       "  <thead>\n",
       "    <tr style=\"text-align: right;\">\n",
       "      <th></th>\n",
       "      <th>totalprice</th>\n",
       "      <th>toilets</th>\n",
       "      <th>garage</th>\n",
       "      <th>rooms</th>\n",
       "      <th>age</th>\n",
       "      <th>elevator</th>\n",
       "      <th>floor</th>\n",
       "    </tr>\n",
       "  </thead>\n",
       "  <tbody>\n",
       "    <tr>\n",
       "      <th>0</th>\n",
       "      <td>228000</td>\n",
       "      <td>1</td>\n",
       "      <td>0</td>\n",
       "      <td>5</td>\n",
       "      <td>33</td>\n",
       "      <td>1</td>\n",
       "      <td>3</td>\n",
       "    </tr>\n",
       "    <tr>\n",
       "      <th>1</th>\n",
       "      <td>409000</td>\n",
       "      <td>2</td>\n",
       "      <td>1</td>\n",
       "      <td>5</td>\n",
       "      <td>5</td>\n",
       "      <td>1</td>\n",
       "      <td>7</td>\n",
       "    </tr>\n",
       "    <tr>\n",
       "      <th>2</th>\n",
       "      <td>200000</td>\n",
       "      <td>2</td>\n",
       "      <td>0</td>\n",
       "      <td>5</td>\n",
       "      <td>14</td>\n",
       "      <td>1</td>\n",
       "      <td>8</td>\n",
       "    </tr>\n",
       "    <tr>\n",
       "      <th>3</th>\n",
       "      <td>180000</td>\n",
       "      <td>1</td>\n",
       "      <td>0</td>\n",
       "      <td>4</td>\n",
       "      <td>41</td>\n",
       "      <td>0</td>\n",
       "      <td>3</td>\n",
       "    </tr>\n",
       "    <tr>\n",
       "      <th>4</th>\n",
       "      <td>443600</td>\n",
       "      <td>2</td>\n",
       "      <td>0</td>\n",
       "      <td>7</td>\n",
       "      <td>22</td>\n",
       "      <td>1</td>\n",
       "      <td>6</td>\n",
       "    </tr>\n",
       "  </tbody>\n",
       "</table>\n",
       "</div>"
      ],
      "text/plain": [
       "   totalprice  toilets  garage  rooms  age  elevator  floor\n",
       "0      228000        1       0      5   33         1      3\n",
       "1      409000        2       1      5    5         1      7\n",
       "2      200000        2       0      5   14         1      8\n",
       "3      180000        1       0      4   41         0      3\n",
       "4      443600        2       0      7   22         1      6"
      ]
     },
     "execution_count": 90,
     "metadata": {},
     "output_type": "execute_result"
    }
   ],
   "source": [
    "model=['totalprice','toilets','garage','rooms', 'age', 'elevator', 'floor']\n",
    "dfmodel=df[model]\n",
    "dfmodel.head()"
   ]
  },
  {
   "cell_type": "code",
   "execution_count": 91,
   "metadata": {},
   "outputs": [],
   "source": [
    "#Membuat pd.get dummies\n",
    "dfmodel = pd.get_dummies(dfmodel)"
   ]
  },
  {
   "cell_type": "code",
   "execution_count": 92,
   "metadata": {},
   "outputs": [],
   "source": [
    "#Memakai Linear regression\n",
    "lin_reg = LinearRegression()"
   ]
  },
  {
   "cell_type": "code",
   "execution_count": 94,
   "metadata": {},
   "outputs": [],
   "source": [
    "#memisahkan variabel x dan y\n",
    "x = dfmodel.drop(columns = ['totalprice'])\n",
    "y = dfmodel['totalprice']"
   ]
  },
  {
   "cell_type": "code",
   "execution_count": 95,
   "metadata": {},
   "outputs": [],
   "source": [
    "#split data\n",
    "x_train, x_test, y_train, y_test = train_test_split(x, y, test_size=0.2)"
   ]
  },
  {
   "cell_type": "code",
   "execution_count": 96,
   "metadata": {},
   "outputs": [
    {
     "data": {
      "text/plain": [
       "LinearRegression(copy_X=True, fit_intercept=True, n_jobs=1, normalize=False)"
      ]
     },
     "execution_count": 96,
     "metadata": {},
     "output_type": "execute_result"
    }
   ],
   "source": [
    "#training model\n",
    "lin_reg.fit(x_train, y_train)"
   ]
  },
  {
   "cell_type": "code",
   "execution_count": 97,
   "metadata": {},
   "outputs": [],
   "source": [
    "#melakukan prediksi (testing model)\n",
    "y_pred = lin_reg.predict(x_test)"
   ]
  },
  {
   "cell_type": "markdown",
   "metadata": {},
   "source": [
    "## 6. Accuracy or Error: Calculate the Error using the helper function from the library, from dataset only"
   ]
  },
  {
   "cell_type": "code",
   "execution_count": 98,
   "metadata": {},
   "outputs": [],
   "source": [
    "def mean_absolute_percentage_error(y_true, y_pred): \n",
    "    y_true, y_pred = np.array(y_true), np.array(y_pred)\n",
    "    return np.mean(np.abs((y_true - y_pred) / y_true)) * 100"
   ]
  },
  {
   "cell_type": "code",
   "execution_count": 99,
   "metadata": {},
   "outputs": [
    {
     "name": "stdout",
     "output_type": "stream",
     "text": [
      "Nilai MAE 66550.9358509333\n",
      "Nilai MAPE 11.95481168212102)\n"
     ]
    }
   ],
   "source": [
    "#check error\n",
    "print(f'Nilai MAE {mean_absolute_error(y_pred, y_test)}')\n",
    "print(f'Nilai MAPE {mean_absolute_percentage_error(y_test, y_pred)})')"
   ]
  },
  {
   "cell_type": "markdown",
   "metadata": {},
   "source": [
    "## Kesimpulan\n",
    "Dari hasil analisis diatas dapat disimpulkan bahwa linear regression algorithm dapat digunakan untuk memprediksi harga apartemen di Victoria berdasarkan kondisi gedung, lingkungan, dan konservasinya.<br>\n",
    "Dari hasil linear regression model yang menggunakan variabel-variabel selection sebgaia berikut :\n",
    "- variabel y = 'totalprice'<br>\n",
    "- variabel x = 'age', 'floor', 'rooms', 'toilets', 'garage', 'elevator'\n",
    "\n",
    "dengan pembangunan model menggunakan data training dari data yang sama dan prediksi dari data yang sama pula dengan fungsi :<br>\n",
    "'x_train, x_test, y_train, y_test = train_test_split(x, y, test_size=0.2)' <br>\n",
    "dengan pembagian data :\n",
    "- data training : 80%\n",
    "- data testing : 20%\n",
    "\n",
    "lalu dievaluasi menggunakan model evaluasi MAE (Mean Average Error) dan MAPE (Mean Average Percentage Error), dihasilkan nilai error sebesar :\n",
    "- MAE : **66550.93**\n",
    "- MAPE : **11.95%%%\n",
    "\n",
    "Maka, dapat disimpulkan bahwa model menggunakan linear regression algorithm ini adalah model yang belum dapat dikatakan terbaik namun sudah cukup baik dalam akurasi dan error nya. Maka, prediksi harga apartemen di Victoria berdasarkan deskripsi data gedung, lingkungan, dan konservasi nya dapat menggunakan linear regression algorithm dengan beberapa analisis lebih lanjut, seperti:\n",
    "1. Jumlah data yang lebih banyak\n",
    "2. Melakukan percobaan Train Test Split yang lain\n",
    "3. Menggunakan model evaluasi yang lain\n",
    "4. Melakukan cross validation atau tuning parameter\n",
    "5. dsb\n",
    "\n",
    "Hasil dari prediksi harga apartemen di Victoria menggunakan pemodelan Linear Regression Algorithm ini dapat digunakan antara lain, untuk:\n",
    "1. Menentukan harga penjualan apartemen yang akan mendatang oleh Tony\n",
    "2. Melihat peluang pasar\n",
    "3. Mebuat financial planning sebelum melakukan proses penjualan\n",
    "4. Menentukan estimasi biaya untung dan modal dalam melakukan penjualan\n",
    "5. dsb"
   ]
  },
  {
   "cell_type": "code",
   "execution_count": null,
   "metadata": {},
   "outputs": [],
   "source": []
  }
 ],
 "metadata": {
  "kernelspec": {
   "display_name": "Python 3",
   "language": "python",
   "name": "python3"
  },
  "language_info": {
   "codemirror_mode": {
    "name": "ipython",
    "version": 3
   },
   "file_extension": ".py",
   "mimetype": "text/x-python",
   "name": "python",
   "nbconvert_exporter": "python",
   "pygments_lexer": "ipython3",
   "version": "3.6.4"
  }
 },
 "nbformat": 4,
 "nbformat_minor": 2
}
