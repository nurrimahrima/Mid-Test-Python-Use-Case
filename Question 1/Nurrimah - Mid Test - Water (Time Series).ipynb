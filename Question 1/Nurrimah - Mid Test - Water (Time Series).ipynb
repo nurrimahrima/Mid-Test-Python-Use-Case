{
 "cells": [
  {
   "cell_type": "markdown",
   "metadata": {},
   "source": [
    "# Nomor 1 Mid - Test : Water Dataset\n",
    "**Deskripsi :** <br>\n",
    "Dataset berisi penggunaan air tahunan di Baltimore dari tahun 1885 hingga 1963 atau 79 tahun data. <br>\n",
    "Nilainya terdapat dalam satuan liter per kapita per hari dan terdapat 79 pengamatan.<br>\n",
    "Terdapat 2 variabel pada data, yaitu  :\n",
    "1. Year\n",
    "2. Water\n",
    "\n",
    "**Tujuan :** <br>\n",
    "Buatlah model menggunakan python untuk memprediksi penggunaan air tahunan di Baltimore."
   ]
  },
  {
   "cell_type": "markdown",
   "metadata": {},
   "source": [
    "## Load the Required Libraries"
   ]
  },
  {
   "cell_type": "code",
   "execution_count": 46,
   "metadata": {},
   "outputs": [],
   "source": [
    "# For data loading and manipulation\n",
    "from scipy import stats\n",
    "import numpy as np\n",
    "import pandas as pd\n",
    "\n",
    "# For Visualization/EDA\n",
    "from matplotlib.pylab import rcParams\n",
    "import matplotlib.pyplot as plt\n",
    "import seaborn as sns\n",
    "%matplotlib inline\n",
    "\n",
    "# For data science and machine learning techniques\n",
    "from sklearn.model_selection import train_test_split\n",
    "from statsmodels.tsa.arima_model import ARIMA\n",
    "from sklearn.metrics import mean_squared_error\n",
    "\n",
    "import warnings\n",
    "warnings.filterwarnings('ignore')"
   ]
  },
  {
   "cell_type": "markdown",
   "metadata": {},
   "source": [
    "## 1. Load the dataset and split into two, dataset.csv and validation.csv"
   ]
  },
  {
   "cell_type": "code",
   "execution_count": 47,
   "metadata": {},
   "outputs": [],
   "source": [
    "#Load dataset\n",
    "df=pd.read_csv('water.csv', sep=';')"
   ]
  },
  {
   "cell_type": "code",
   "execution_count": 48,
   "metadata": {},
   "outputs": [
    {
     "data": {
      "text/html": [
       "<div>\n",
       "<style scoped>\n",
       "    .dataframe tbody tr th:only-of-type {\n",
       "        vertical-align: middle;\n",
       "    }\n",
       "\n",
       "    .dataframe tbody tr th {\n",
       "        vertical-align: top;\n",
       "    }\n",
       "\n",
       "    .dataframe thead th {\n",
       "        text-align: right;\n",
       "    }\n",
       "</style>\n",
       "<table border=\"1\" class=\"dataframe\">\n",
       "  <thead>\n",
       "    <tr style=\"text-align: right;\">\n",
       "      <th></th>\n",
       "      <th>Year</th>\n",
       "      <th>Water</th>\n",
       "    </tr>\n",
       "  </thead>\n",
       "  <tbody>\n",
       "    <tr>\n",
       "      <th>0</th>\n",
       "      <td>1885</td>\n",
       "      <td>356</td>\n",
       "    </tr>\n",
       "    <tr>\n",
       "      <th>1</th>\n",
       "      <td>1886</td>\n",
       "      <td>386</td>\n",
       "    </tr>\n",
       "    <tr>\n",
       "      <th>2</th>\n",
       "      <td>1887</td>\n",
       "      <td>397</td>\n",
       "    </tr>\n",
       "    <tr>\n",
       "      <th>3</th>\n",
       "      <td>1888</td>\n",
       "      <td>397</td>\n",
       "    </tr>\n",
       "    <tr>\n",
       "      <th>4</th>\n",
       "      <td>1889</td>\n",
       "      <td>413</td>\n",
       "    </tr>\n",
       "  </tbody>\n",
       "</table>\n",
       "</div>"
      ],
      "text/plain": [
       "   Year  Water\n",
       "0  1885    356\n",
       "1  1886    386\n",
       "2  1887    397\n",
       "3  1888    397\n",
       "4  1889    413"
      ]
     },
     "execution_count": 48,
     "metadata": {},
     "output_type": "execute_result"
    }
   ],
   "source": [
    "df.head()"
   ]
  },
  {
   "cell_type": "code",
   "execution_count": 49,
   "metadata": {},
   "outputs": [
    {
     "data": {
      "text/html": [
       "<div>\n",
       "<style scoped>\n",
       "    .dataframe tbody tr th:only-of-type {\n",
       "        vertical-align: middle;\n",
       "    }\n",
       "\n",
       "    .dataframe tbody tr th {\n",
       "        vertical-align: top;\n",
       "    }\n",
       "\n",
       "    .dataframe thead th {\n",
       "        text-align: right;\n",
       "    }\n",
       "</style>\n",
       "<table border=\"1\" class=\"dataframe\">\n",
       "  <thead>\n",
       "    <tr style=\"text-align: right;\">\n",
       "      <th></th>\n",
       "      <th>Year</th>\n",
       "      <th>Water</th>\n",
       "    </tr>\n",
       "  </thead>\n",
       "  <tbody>\n",
       "    <tr>\n",
       "      <th>74</th>\n",
       "      <td>1959</td>\n",
       "      <td>594</td>\n",
       "    </tr>\n",
       "    <tr>\n",
       "      <th>75</th>\n",
       "      <td>1960</td>\n",
       "      <td>587</td>\n",
       "    </tr>\n",
       "    <tr>\n",
       "      <th>76</th>\n",
       "      <td>1961</td>\n",
       "      <td>587</td>\n",
       "    </tr>\n",
       "    <tr>\n",
       "      <th>77</th>\n",
       "      <td>1962</td>\n",
       "      <td>625</td>\n",
       "    </tr>\n",
       "    <tr>\n",
       "      <th>78</th>\n",
       "      <td>1963</td>\n",
       "      <td>613</td>\n",
       "    </tr>\n",
       "  </tbody>\n",
       "</table>\n",
       "</div>"
      ],
      "text/plain": [
       "    Year  Water\n",
       "74  1959    594\n",
       "75  1960    587\n",
       "76  1961    587\n",
       "77  1962    625\n",
       "78  1963    613"
      ]
     },
     "execution_count": 49,
     "metadata": {},
     "output_type": "execute_result"
    }
   ],
   "source": [
    "df.tail()"
   ]
  },
  {
   "cell_type": "code",
   "execution_count": 50,
   "metadata": {},
   "outputs": [
    {
     "data": {
      "text/plain": [
       "(79, 2)"
      ]
     },
     "execution_count": 50,
     "metadata": {},
     "output_type": "execute_result"
    }
   ],
   "source": [
    "#Dimension of the data\n",
    "df.shape"
   ]
  },
  {
   "cell_type": "code",
   "execution_count": 131,
   "metadata": {},
   "outputs": [
    {
     "name": "stdout",
     "output_type": "stream",
     "text": [
      "Dataset 71, Validation 8\n"
     ]
    }
   ],
   "source": [
    "#Split data into two, 'dataset.csv' and 'validation.csv'\n",
    "split_point = int(len(df)*0.9)\n",
    "dataset, validation = df[0:split_point], df[split_point:]\n",
    "print('Dataset %d, Validation %d' % (len(dataset), len(validation)))\n",
    "dataset.to_csv('dataset.csv', index=False)\n",
    "validation.to_csv('validation.csv', index=False)"
   ]
  },
  {
   "cell_type": "code",
   "execution_count": 132,
   "metadata": {},
   "outputs": [],
   "source": [
    "dataset = pd.read_csv('dataset.csv')"
   ]
  },
  {
   "cell_type": "code",
   "execution_count": 133,
   "metadata": {},
   "outputs": [],
   "source": [
    "valid = pd.read_csv('validation.csv')"
   ]
  },
  {
   "cell_type": "markdown",
   "metadata": {},
   "source": [
    "Jawab :<br>\n",
    "**Query yang dapat digunakan untuk load dan membagi data menjadi 2 bagian adalah seperti diatas**<br>\n",
    "- Load dataset menggunakan pandas dataframe 'pd.read_csv'<br>\n",
    "- Split into two sets of data dengan proporsi :\n",
    "\n",
    "    1. 90% 'dataset.csv' yang berjumlah 71<br>\n",
    "    2. 10% 'validation.csv' yang berjumlah 8"
   ]
  },
  {
   "cell_type": "markdown",
   "metadata": {},
   "source": [
    "## 2. Create summary of the dataset"
   ]
  },
  {
   "cell_type": "code",
   "execution_count": 54,
   "metadata": {},
   "outputs": [
    {
     "data": {
      "text/html": [
       "<div>\n",
       "<style scoped>\n",
       "    .dataframe tbody tr th:only-of-type {\n",
       "        vertical-align: middle;\n",
       "    }\n",
       "\n",
       "    .dataframe tbody tr th {\n",
       "        vertical-align: top;\n",
       "    }\n",
       "\n",
       "    .dataframe thead th {\n",
       "        text-align: right;\n",
       "    }\n",
       "</style>\n",
       "<table border=\"1\" class=\"dataframe\">\n",
       "  <thead>\n",
       "    <tr style=\"text-align: right;\">\n",
       "      <th></th>\n",
       "      <th>Year</th>\n",
       "      <th>Water</th>\n",
       "    </tr>\n",
       "  </thead>\n",
       "  <tbody>\n",
       "    <tr>\n",
       "      <th>0</th>\n",
       "      <td>1885</td>\n",
       "      <td>356</td>\n",
       "    </tr>\n",
       "    <tr>\n",
       "      <th>1</th>\n",
       "      <td>1886</td>\n",
       "      <td>386</td>\n",
       "    </tr>\n",
       "    <tr>\n",
       "      <th>2</th>\n",
       "      <td>1887</td>\n",
       "      <td>397</td>\n",
       "    </tr>\n",
       "    <tr>\n",
       "      <th>3</th>\n",
       "      <td>1888</td>\n",
       "      <td>397</td>\n",
       "    </tr>\n",
       "    <tr>\n",
       "      <th>4</th>\n",
       "      <td>1889</td>\n",
       "      <td>413</td>\n",
       "    </tr>\n",
       "  </tbody>\n",
       "</table>\n",
       "</div>"
      ],
      "text/plain": [
       "   Year  Water\n",
       "0  1885    356\n",
       "1  1886    386\n",
       "2  1887    397\n",
       "3  1888    397\n",
       "4  1889    413"
      ]
     },
     "execution_count": 54,
     "metadata": {},
     "output_type": "execute_result"
    }
   ],
   "source": [
    "#Head of data (default =5): 5 baris pertama dari data\n",
    "dataset.head()"
   ]
  },
  {
   "cell_type": "code",
   "execution_count": 55,
   "metadata": {},
   "outputs": [
    {
     "data": {
      "text/html": [
       "<div>\n",
       "<style scoped>\n",
       "    .dataframe tbody tr th:only-of-type {\n",
       "        vertical-align: middle;\n",
       "    }\n",
       "\n",
       "    .dataframe tbody tr th {\n",
       "        vertical-align: top;\n",
       "    }\n",
       "\n",
       "    .dataframe thead th {\n",
       "        text-align: right;\n",
       "    }\n",
       "</style>\n",
       "<table border=\"1\" class=\"dataframe\">\n",
       "  <thead>\n",
       "    <tr style=\"text-align: right;\">\n",
       "      <th></th>\n",
       "      <th>Year</th>\n",
       "      <th>Water</th>\n",
       "    </tr>\n",
       "  </thead>\n",
       "  <tbody>\n",
       "    <tr>\n",
       "      <th>66</th>\n",
       "      <td>1951</td>\n",
       "      <td>564</td>\n",
       "    </tr>\n",
       "    <tr>\n",
       "      <th>67</th>\n",
       "      <td>1952</td>\n",
       "      <td>549</td>\n",
       "    </tr>\n",
       "    <tr>\n",
       "      <th>68</th>\n",
       "      <td>1953</td>\n",
       "      <td>538</td>\n",
       "    </tr>\n",
       "    <tr>\n",
       "      <th>69</th>\n",
       "      <td>1954</td>\n",
       "      <td>568</td>\n",
       "    </tr>\n",
       "    <tr>\n",
       "      <th>70</th>\n",
       "      <td>1955</td>\n",
       "      <td>575</td>\n",
       "    </tr>\n",
       "  </tbody>\n",
       "</table>\n",
       "</div>"
      ],
      "text/plain": [
       "    Year  Water\n",
       "66  1951    564\n",
       "67  1952    549\n",
       "68  1953    538\n",
       "69  1954    568\n",
       "70  1955    575"
      ]
     },
     "execution_count": 55,
     "metadata": {},
     "output_type": "execute_result"
    }
   ],
   "source": [
    "#Tail of data (default =5): 5 baris terakhir dari data\n",
    "dataset.tail()"
   ]
  },
  {
   "cell_type": "code",
   "execution_count": 56,
   "metadata": {},
   "outputs": [
    {
     "data": {
      "text/plain": [
       "(71, 2)"
      ]
     },
     "execution_count": 56,
     "metadata": {},
     "output_type": "execute_result"
    }
   ],
   "source": [
    "dataset.shape"
   ]
  },
  {
   "cell_type": "code",
   "execution_count": 57,
   "metadata": {},
   "outputs": [
    {
     "name": "stdout",
     "output_type": "stream",
     "text": [
      "<class 'pandas.core.frame.DataFrame'>\n",
      "RangeIndex: 71 entries, 0 to 70\n",
      "Data columns (total 2 columns):\n",
      "Year     71 non-null int64\n",
      "Water    71 non-null int64\n",
      "dtypes: int64(2)\n",
      "memory usage: 1.2 KB\n"
     ]
    }
   ],
   "source": [
    "#Info tipe data, dimensi, memory, dll\n",
    "dataset.info()"
   ]
  },
  {
   "cell_type": "code",
   "execution_count": 58,
   "metadata": {},
   "outputs": [
    {
     "name": "stdout",
     "output_type": "stream",
     "text": [
      "<class 'pandas.core.frame.DataFrame'>\n"
     ]
    }
   ],
   "source": [
    "print(type(dataset))"
   ]
  },
  {
   "cell_type": "code",
   "execution_count": 59,
   "metadata": {},
   "outputs": [
    {
     "data": {
      "text/plain": [
       "Year     int64\n",
       "Water    int64\n",
       "dtype: object"
      ]
     },
     "execution_count": 59,
     "metadata": {},
     "output_type": "execute_result"
    }
   ],
   "source": [
    "dataset.dtypes"
   ]
  },
  {
   "cell_type": "code",
   "execution_count": 60,
   "metadata": {},
   "outputs": [
    {
     "name": "stdout",
     "output_type": "stream",
     "text": [
      "Index(['Year', 'Water'], dtype='object')\n"
     ]
    }
   ],
   "source": [
    "#Fitur dalam data\n",
    "print(dataset.columns)"
   ]
  },
  {
   "cell_type": "code",
   "execution_count": 61,
   "metadata": {},
   "outputs": [
    {
     "data": {
      "text/plain": [
       "Year     0\n",
       "Water    0\n",
       "dtype: int64"
      ]
     },
     "execution_count": 61,
     "metadata": {},
     "output_type": "execute_result"
    }
   ],
   "source": [
    "dataset.isnull().sum()"
   ]
  },
  {
   "cell_type": "code",
   "execution_count": 134,
   "metadata": {},
   "outputs": [
    {
     "data": {
      "text/html": [
       "<div>\n",
       "<style scoped>\n",
       "    .dataframe tbody tr th:only-of-type {\n",
       "        vertical-align: middle;\n",
       "    }\n",
       "\n",
       "    .dataframe tbody tr th {\n",
       "        vertical-align: top;\n",
       "    }\n",
       "\n",
       "    .dataframe thead th {\n",
       "        text-align: right;\n",
       "    }\n",
       "</style>\n",
       "<table border=\"1\" class=\"dataframe\">\n",
       "  <thead>\n",
       "    <tr style=\"text-align: right;\">\n",
       "      <th></th>\n",
       "      <th>Year</th>\n",
       "      <th>Water</th>\n",
       "    </tr>\n",
       "  </thead>\n",
       "  <tbody>\n",
       "    <tr>\n",
       "      <th>count</th>\n",
       "      <td>71.00</td>\n",
       "      <td>71.00</td>\n",
       "    </tr>\n",
       "    <tr>\n",
       "      <th>mean</th>\n",
       "      <td>1920.00</td>\n",
       "      <td>502.48</td>\n",
       "    </tr>\n",
       "    <tr>\n",
       "      <th>std</th>\n",
       "      <td>20.64</td>\n",
       "      <td>73.80</td>\n",
       "    </tr>\n",
       "    <tr>\n",
       "      <th>min</th>\n",
       "      <td>1885.00</td>\n",
       "      <td>344.00</td>\n",
       "    </tr>\n",
       "    <tr>\n",
       "      <th>25%</th>\n",
       "      <td>1902.50</td>\n",
       "      <td>458.00</td>\n",
       "    </tr>\n",
       "    <tr>\n",
       "      <th>50%</th>\n",
       "      <td>1920.00</td>\n",
       "      <td>500.00</td>\n",
       "    </tr>\n",
       "    <tr>\n",
       "      <th>75%</th>\n",
       "      <td>1937.50</td>\n",
       "      <td>556.50</td>\n",
       "    </tr>\n",
       "    <tr>\n",
       "      <th>max</th>\n",
       "      <td>1955.00</td>\n",
       "      <td>662.00</td>\n",
       "    </tr>\n",
       "  </tbody>\n",
       "</table>\n",
       "</div>"
      ],
      "text/plain": [
       "          Year   Water\n",
       "count    71.00   71.00\n",
       "mean   1920.00  502.48\n",
       "std      20.64   73.80\n",
       "min    1885.00  344.00\n",
       "25%    1902.50  458.00\n",
       "50%    1920.00  500.00\n",
       "75%    1937.50  556.50\n",
       "max    1955.00  662.00"
      ]
     },
     "execution_count": 134,
     "metadata": {},
     "output_type": "execute_result"
    }
   ],
   "source": [
    "#Summarize seperti mean, min, max, jumlah, std dari kedua vairabel\n",
    "dataset.describe().round(2)"
   ]
  },
  {
   "cell_type": "markdown",
   "metadata": {},
   "source": [
    "Jawab :<br>\n",
    "**Summary dari dataset dapat dilihat menggunakan query-query diatas, summary ini berguna untuk memahami data (Data Understanding) yang akan dianalisis agar menghasilkan analisis yang tepat dan sesuai.**<br>\n",
    "**'Describe' adalah method yang paling umum untuk mengetahui langsung summary tentang data**<Br>\n",
    "**Dapat disimpulkan bahwa data yang digunakan untuk membentuk model 'dataset'** :<Br>\n",
    "- Setiap variabel ('Year' dan 'Water') bersifat integer <Br>\n",
    "- Data memiliki dimensi (71, 2) yang artinya 71 rows dan 2 columns <br>\n",
    "- Data berawal dari tahun 1885 hingga 1955<br>\n",
    "- Data tidak memiliki missing value<br>\n",
    "- Rata-rata 500 yang menunjukkan level data dalam analisis\n",
    "- Standar deviasi sebesar 73 yang menunjukkan nilai persebaran data dan kedekatan titik data ke nilai rata-rata yang cukup sesuai.\n",
    "- dsb."
   ]
  },
  {
   "cell_type": "markdown",
   "metadata": {},
   "source": [
    "## 3. Create a line plot of time series dataset will be iterated "
   ]
  },
  {
   "cell_type": "code",
   "execution_count": 63,
   "metadata": {},
   "outputs": [],
   "source": [
    "dataset['Year'] = pd.to_datetime(dataset['Year'], format='%Y')"
   ]
  },
  {
   "cell_type": "code",
   "execution_count": 64,
   "metadata": {},
   "outputs": [
    {
     "data": {
      "text/html": [
       "<div>\n",
       "<style scoped>\n",
       "    .dataframe tbody tr th:only-of-type {\n",
       "        vertical-align: middle;\n",
       "    }\n",
       "\n",
       "    .dataframe tbody tr th {\n",
       "        vertical-align: top;\n",
       "    }\n",
       "\n",
       "    .dataframe thead th {\n",
       "        text-align: right;\n",
       "    }\n",
       "</style>\n",
       "<table border=\"1\" class=\"dataframe\">\n",
       "  <thead>\n",
       "    <tr style=\"text-align: right;\">\n",
       "      <th></th>\n",
       "      <th>Year</th>\n",
       "      <th>Water</th>\n",
       "    </tr>\n",
       "    <tr>\n",
       "      <th>Year</th>\n",
       "      <th></th>\n",
       "      <th></th>\n",
       "    </tr>\n",
       "  </thead>\n",
       "  <tbody>\n",
       "    <tr>\n",
       "      <th>1885-01-01</th>\n",
       "      <td>1885-01-01</td>\n",
       "      <td>356</td>\n",
       "    </tr>\n",
       "    <tr>\n",
       "      <th>1886-01-01</th>\n",
       "      <td>1886-01-01</td>\n",
       "      <td>386</td>\n",
       "    </tr>\n",
       "    <tr>\n",
       "      <th>1887-01-01</th>\n",
       "      <td>1887-01-01</td>\n",
       "      <td>397</td>\n",
       "    </tr>\n",
       "    <tr>\n",
       "      <th>1888-01-01</th>\n",
       "      <td>1888-01-01</td>\n",
       "      <td>397</td>\n",
       "    </tr>\n",
       "    <tr>\n",
       "      <th>1889-01-01</th>\n",
       "      <td>1889-01-01</td>\n",
       "      <td>413</td>\n",
       "    </tr>\n",
       "  </tbody>\n",
       "</table>\n",
       "</div>"
      ],
      "text/plain": [
       "                 Year  Water\n",
       "Year                        \n",
       "1885-01-01 1885-01-01    356\n",
       "1886-01-01 1886-01-01    386\n",
       "1887-01-01 1887-01-01    397\n",
       "1888-01-01 1888-01-01    397\n",
       "1889-01-01 1889-01-01    413"
      ]
     },
     "execution_count": 64,
     "metadata": {},
     "output_type": "execute_result"
    }
   ],
   "source": [
    "dataset = dataset.set_index(dataset['Year'])\n",
    "dataset.head()"
   ]
  },
  {
   "cell_type": "code",
   "execution_count": 65,
   "metadata": {},
   "outputs": [],
   "source": [
    "dataset.drop(columns=['Year'], inplace=True)"
   ]
  },
  {
   "cell_type": "code",
   "execution_count": 66,
   "metadata": {},
   "outputs": [],
   "source": [
    "dataset = dataset.astype('float64')"
   ]
  },
  {
   "cell_type": "code",
   "execution_count": 67,
   "metadata": {},
   "outputs": [
    {
     "data": {
      "text/plain": [
       "Text(0.5,1,'Annual Use of Water in Baltimore')"
      ]
     },
     "execution_count": 67,
     "metadata": {},
     "output_type": "execute_result"
    },
    {
     "data": {
      "image/png": "[encoded data removed]",
      "text/plain": [
       "<matplotlib.figure.Figure at 0x1a96e4f16d8>"
      ]
     },
     "metadata": {},
     "output_type": "display_data"
    }
   ],
   "source": [
    "#Membuat Line Plot untuk time series data\n",
    "rcParams['figure.figsize'] = (20, 10)\n",
    "\n",
    "# Plot Graph\n",
    "plt.xlabel('Year')\n",
    "plt.ylabel('Water')\n",
    "plt.plot(dataset['Water'])\n",
    "plt.title('Annual Use of Water in Baltimore')"
   ]
  },
  {
   "cell_type": "markdown",
   "metadata": {},
   "source": [
    "Jawab:<br>\n",
    "**Membuat line plot time series dapat menggunakan fungsi plot dalam matplotlib library.**<br>\n",
    "**Dari plot dapat dilihat bahwa selama +-80 tahun terjadi penggunaan air yang bersifat fluktuatif yang cenderung naik dari 10 tahun awal hingga tahun-tahun berikutnya dimana :**<br>\n",
    "- Penggunaan air terbanyak adalah ketika tahun 1913 sebesar 662.<br>\n",
    "- Penggunaan air tersedikit adalah ketika tahun 1892 sebesar 344.\n",
    "- Tidak terlihat outlier yang jelas pada data walupun terjadi gap fluktuasi yang cukup curam di tahun 1892."
   ]
  },
  {
   "cell_type": "markdown",
   "metadata": {},
   "source": [
    "## 4. Group the annual data by decade and get an idea of the spread observation for each decade and how this may be changing"
   ]
  },
  {
   "cell_type": "code",
   "execution_count": 68,
   "metadata": {},
   "outputs": [],
   "source": [
    "dataset = pd.read_csv('dataset.csv')"
   ]
  },
  {
   "cell_type": "code",
   "execution_count": 69,
   "metadata": {},
   "outputs": [
    {
     "data": {
      "image/png": "[encoded data removed]",
      "text/plain": [
       "<matplotlib.figure.Figure at 0x1a96ecb6550>"
      ]
     },
     "metadata": {},
     "output_type": "display_data"
    }
   ],
   "source": [
    "np.random.seed(99)\n",
    "# df = pd.DataFrame({'year': sum([[x]*5 for x in range(1871,2015)], []),'AVG': abs(np.random.randn(720))/10})\n",
    "\n",
    "# NEAREST 10 FOR DECADE START\n",
    "dataset['decade'] = (dataset['Year'] // 10) * 10 + 5\n",
    "\n",
    "# ADJUST FOR YEARS ENDING IN ZERO\n",
    "dataset.loc[(dataset['Year'] % 10) == 0, 'decade'] = dataset['decade'] - 10\n",
    "\n",
    "# CALCULATE DECADE RANGE\n",
    "dataset['decade_range'] = dataset['decade'].astype('str') + ' - ' + \\\n",
    "                     (dataset['decade'] + 9).astype('str') \n",
    "\n",
    "plt.figure(figsize=(15,5))\n",
    "sns.boxplot(x=\"decade_range\", y=\"Water\", data=dataset)   \n",
    "\n",
    "plt.show()\n",
    "plt.clf()\n",
    "plt.close()"
   ]
  },
  {
   "cell_type": "markdown",
   "metadata": {},
   "source": [
    "Jawab : <br>\n",
    "**Pembagian decades dalam hal ini menggunakan boxplot**\n",
    "**Dapat dilihat dengan pembagian per decades dalam 'dataset.csv' menjelaskan bahwa :**<br>\n",
    "- Penggunaan air terbanyak terdapat pada decade tahun 1915-1924\n",
    "- Penggunaan air tersedikit terdapat pada decade tahun 1895-1904\n",
    "\n",
    "**Nilai median pada setiap decade menunjukkan trend yamg cenderung non linear yang artinya terjadi fluktuasi penggunaan air pada setiap rentang waktu 10 tahun.**<br>\n",
    "**Terdapat penggunaan air yang cenderung stabil pada decades 1925-1934 yang ditunjukkan oleh boxplot warna ungu dimana Q1, Q2, dan Q3 cenderung memiliki nilai dengan kelipatan sama dengan nilai max dan min yang juga sesuai.**<br>\n",
    "**Dapat dilihat bahwa terdapat beberapa outlier seperti pada decade 1885-1894 dan decade 1935-1944 yang artinya terdapat kelainan penggunaan dalam range waktu tersebut yang jauh dari penggunaan normal lainnya**"
   ]
  },
  {
   "cell_type": "markdown",
   "metadata": {},
   "source": [
    "## 5. Create model using ARIMA\n",
    "Dalam pemodelan ARIMA, data 'Year' harus dalam bentuk indeks. Maka, perlu untuk dijadikan indeks terlebih dahulu kemudia split data train dan test mengikuti instruksi soal."
   ]
  },
  {
   "cell_type": "code",
   "execution_count": 146,
   "metadata": {},
   "outputs": [],
   "source": [
    "dataset = pd.read_csv('dataset.csv')\n",
    "dataset['Year'] = pd.to_datetime(dataset['Year'], format='%Y')\n",
    "dataset = dataset.set_index(dataset['Year'])\n",
    "dataset.drop(columns=['Year'], inplace=True)\n",
    "dataset = dataset.astype('float64')"
   ]
  },
  {
   "cell_type": "markdown",
   "metadata": {},
   "source": [
    "- Split the dataset into train and test sets directly"
   ]
  },
  {
   "cell_type": "code",
   "execution_count": 71,
   "metadata": {},
   "outputs": [
    {
     "data": {
      "text/plain": [
       "35"
      ]
     },
     "execution_count": 71,
     "metadata": {},
     "output_type": "execute_result"
    }
   ],
   "source": [
    "train_size = int(len(dataset)*0.5)\n",
    "train_size"
   ]
  },
  {
   "cell_type": "markdown",
   "metadata": {},
   "source": [
    "- The first 50% of the dataset will be held back to train the model <br>\n",
    "- The last 50% of the dataset will be iterated and test the model"
   ]
  },
  {
   "cell_type": "code",
   "execution_count": 72,
   "metadata": {},
   "outputs": [
    {
     "name": "stdout",
     "output_type": "stream",
     "text": [
      "(35, 1)\n",
      "(36, 1)\n"
     ]
    }
   ],
   "source": [
    "train = dataset[0:train_size]\n",
    "test = dataset[train_size:]\n",
    "print(train.shape)\n",
    "print(test.shape)"
   ]
  },
  {
   "cell_type": "code",
   "execution_count": 73,
   "metadata": {},
   "outputs": [
    {
     "data": {
      "text/html": [
       "<div>\n",
       "<style scoped>\n",
       "    .dataframe tbody tr th:only-of-type {\n",
       "        vertical-align: middle;\n",
       "    }\n",
       "\n",
       "    .dataframe tbody tr th {\n",
       "        vertical-align: top;\n",
       "    }\n",
       "\n",
       "    .dataframe thead th {\n",
       "        text-align: right;\n",
       "    }\n",
       "</style>\n",
       "<table border=\"1\" class=\"dataframe\">\n",
       "  <thead>\n",
       "    <tr style=\"text-align: right;\">\n",
       "      <th></th>\n",
       "      <th>Water</th>\n",
       "    </tr>\n",
       "    <tr>\n",
       "      <th>Year</th>\n",
       "      <th></th>\n",
       "    </tr>\n",
       "  </thead>\n",
       "  <tbody>\n",
       "    <tr>\n",
       "      <th>1885-01-01</th>\n",
       "      <td>356.0</td>\n",
       "    </tr>\n",
       "    <tr>\n",
       "      <th>1886-01-01</th>\n",
       "      <td>386.0</td>\n",
       "    </tr>\n",
       "    <tr>\n",
       "      <th>1887-01-01</th>\n",
       "      <td>397.0</td>\n",
       "    </tr>\n",
       "    <tr>\n",
       "      <th>1888-01-01</th>\n",
       "      <td>397.0</td>\n",
       "    </tr>\n",
       "    <tr>\n",
       "      <th>1889-01-01</th>\n",
       "      <td>413.0</td>\n",
       "    </tr>\n",
       "  </tbody>\n",
       "</table>\n",
       "</div>"
      ],
      "text/plain": [
       "            Water\n",
       "Year             \n",
       "1885-01-01  356.0\n",
       "1886-01-01  386.0\n",
       "1887-01-01  397.0\n",
       "1888-01-01  397.0\n",
       "1889-01-01  413.0"
      ]
     },
     "execution_count": 73,
     "metadata": {},
     "output_type": "execute_result"
    }
   ],
   "source": [
    "train.head()"
   ]
  },
  {
   "cell_type": "markdown",
   "metadata": {},
   "source": [
    "## Modelling\n",
    "- The ARIMA model (p,d,q) requires three parameters and is traditionally configured manually<br>\n",
    "- Use an ARIMA(0,1,0) on the raw data may be a good starting point"
   ]
  },
  {
   "cell_type": "code",
   "execution_count": 74,
   "metadata": {},
   "outputs": [
    {
     "ename": "IndexError",
     "evalue": "list index out of range",
     "output_type": "error",
     "traceback": [
      "\u001b[1;31m---------------------------------------------------------------------------\u001b[0m",
      "\u001b[1;31mIndexError\u001b[0m                                Traceback (most recent call last)",
      "\u001b[1;32m<ipython-input-74-015ea96930a8>\u001b[0m in \u001b[0;36m<module>\u001b[1;34m()\u001b[0m\n\u001b[0;32m      2\u001b[0m \u001b[0marima\u001b[0m \u001b[1;33m=\u001b[0m \u001b[0mARIMA\u001b[0m\u001b[1;33m(\u001b[0m\u001b[0mtrain\u001b[0m\u001b[1;33m,\u001b[0m \u001b[0morder\u001b[0m\u001b[1;33m=\u001b[0m\u001b[0marima_order\u001b[0m\u001b[1;33m)\u001b[0m\u001b[1;33m\u001b[0m\u001b[0m\n\u001b[0;32m      3\u001b[0m \u001b[0marima_fit\u001b[0m \u001b[1;33m=\u001b[0m \u001b[0marima\u001b[0m\u001b[1;33m.\u001b[0m\u001b[0mfit\u001b[0m\u001b[1;33m(\u001b[0m\u001b[1;33m)\u001b[0m\u001b[1;33m\u001b[0m\u001b[0m\n\u001b[1;32m----> 4\u001b[1;33m \u001b[0mprint\u001b[0m\u001b[1;33m(\u001b[0m\u001b[0marima_fit\u001b[0m\u001b[1;33m.\u001b[0m\u001b[0msummary\u001b[0m\u001b[1;33m(\u001b[0m\u001b[1;33m)\u001b[0m\u001b[1;33m)\u001b[0m\u001b[1;33m\u001b[0m\u001b[0m\n\u001b[0m",
      "\u001b[1;32mC:\\ProgramData\\Anaconda3\\lib\\site-packages\\statsmodels\\tsa\\arima_model.py\u001b[0m in \u001b[0;36msummary\u001b[1;34m(self, alpha)\u001b[0m\n\u001b[0;32m   1622\u001b[0m         smry.add_table_2cols(self, gleft=top_left, gright=top_right,\n\u001b[0;32m   1623\u001b[0m                              title=title)\n\u001b[1;32m-> 1624\u001b[1;33m         \u001b[0msmry\u001b[0m\u001b[1;33m.\u001b[0m\u001b[0madd_table_params\u001b[0m\u001b[1;33m(\u001b[0m\u001b[0mself\u001b[0m\u001b[1;33m,\u001b[0m \u001b[0malpha\u001b[0m\u001b[1;33m=\u001b[0m\u001b[0malpha\u001b[0m\u001b[1;33m,\u001b[0m \u001b[0muse_t\u001b[0m\u001b[1;33m=\u001b[0m\u001b[1;32mFalse\u001b[0m\u001b[1;33m)\u001b[0m\u001b[1;33m\u001b[0m\u001b[0m\n\u001b[0m\u001b[0;32m   1625\u001b[0m \u001b[1;33m\u001b[0m\u001b[0m\n\u001b[0;32m   1626\u001b[0m         \u001b[1;31m# Make the roots table\u001b[0m\u001b[1;33m\u001b[0m\u001b[1;33m\u001b[0m\u001b[0m\n",
      "\u001b[1;32mC:\\ProgramData\\Anaconda3\\lib\\site-packages\\statsmodels\\iolib\\summary.py\u001b[0m in \u001b[0;36madd_table_params\u001b[1;34m(self, res, yname, xname, alpha, use_t)\u001b[0m\n\u001b[0;32m    859\u001b[0m         \u001b[1;32mif\u001b[0m \u001b[0mres\u001b[0m\u001b[1;33m.\u001b[0m\u001b[0mparams\u001b[0m\u001b[1;33m.\u001b[0m\u001b[0mndim\u001b[0m \u001b[1;33m==\u001b[0m \u001b[1;36m1\u001b[0m\u001b[1;33m:\u001b[0m\u001b[1;33m\u001b[0m\u001b[0m\n\u001b[0;32m    860\u001b[0m             table = summary_params(res, yname=yname, xname=xname, alpha=alpha,\n\u001b[1;32m--> 861\u001b[1;33m                                    use_t=use_t)\n\u001b[0m\u001b[0;32m    862\u001b[0m         \u001b[1;32melif\u001b[0m \u001b[0mres\u001b[0m\u001b[1;33m.\u001b[0m\u001b[0mparams\u001b[0m\u001b[1;33m.\u001b[0m\u001b[0mndim\u001b[0m \u001b[1;33m==\u001b[0m \u001b[1;36m2\u001b[0m\u001b[1;33m:\u001b[0m\u001b[1;33m\u001b[0m\u001b[0m\n\u001b[0;32m    863\u001b[0m \u001b[1;31m#            _, table = summary_params_2dflat(res, yname=yname, xname=xname,\u001b[0m\u001b[1;33m\u001b[0m\u001b[1;33m\u001b[0m\u001b[0m\n",
      "\u001b[1;32mC:\\ProgramData\\Anaconda3\\lib\\site-packages\\statsmodels\\iolib\\summary.py\u001b[0m in \u001b[0;36msummary_params\u001b[1;34m(results, yname, xname, alpha, use_t, skip_header, title)\u001b[0m\n\u001b[0;32m    479\u001b[0m                                   \u001b[0mparams_stubs\u001b[0m\u001b[1;33m,\u001b[0m\u001b[1;33m\u001b[0m\u001b[0m\n\u001b[0;32m    480\u001b[0m                                   \u001b[0mtitle\u001b[0m \u001b[1;33m=\u001b[0m \u001b[0mtitle\u001b[0m\u001b[1;33m,\u001b[0m\u001b[1;33m\u001b[0m\u001b[0m\n\u001b[1;32m--> 481\u001b[1;33m                                   \u001b[0mtxt_fmt\u001b[0m \u001b[1;33m=\u001b[0m \u001b[0mfmt_params\u001b[0m \u001b[1;31m#gen_fmt #fmt_2, #gen_fmt,\u001b[0m\u001b[1;33m\u001b[0m\u001b[0m\n\u001b[0m\u001b[0;32m    482\u001b[0m                                   )\n\u001b[0;32m    483\u001b[0m \u001b[1;33m\u001b[0m\u001b[0m\n",
      "\u001b[1;32mC:\\ProgramData\\Anaconda3\\lib\\site-packages\\statsmodels\\iolib\\table.py\u001b[0m in \u001b[0;36m__init__\u001b[1;34m(self, data, headers, stubs, title, datatypes, csv_fmt, txt_fmt, ltx_fmt, html_fmt, celltype, rowtype, **fmt_dict)\u001b[0m\n\u001b[0;32m    184\u001b[0m         \"\"\"\n\u001b[0;32m    185\u001b[0m         \u001b[0mself\u001b[0m\u001b[1;33m.\u001b[0m\u001b[0mtitle\u001b[0m \u001b[1;33m=\u001b[0m \u001b[0mtitle\u001b[0m\u001b[1;33m\u001b[0m\u001b[0m\n\u001b[1;32m--> 186\u001b[1;33m         \u001b[0mself\u001b[0m\u001b[1;33m.\u001b[0m\u001b[0m_datatypes\u001b[0m \u001b[1;33m=\u001b[0m \u001b[0mdatatypes\u001b[0m \u001b[1;32mor\u001b[0m \u001b[0mlrange\u001b[0m\u001b[1;33m(\u001b[0m\u001b[0mlen\u001b[0m\u001b[1;33m(\u001b[0m\u001b[0mdata\u001b[0m\u001b[1;33m[\u001b[0m\u001b[1;36m0\u001b[0m\u001b[1;33m]\u001b[0m\u001b[1;33m)\u001b[0m\u001b[1;33m)\u001b[0m\u001b[1;33m\u001b[0m\u001b[0m\n\u001b[0m\u001b[0;32m    187\u001b[0m         \u001b[1;31m# start with default formatting\u001b[0m\u001b[1;33m\u001b[0m\u001b[1;33m\u001b[0m\u001b[0m\n\u001b[0;32m    188\u001b[0m         \u001b[0mself\u001b[0m\u001b[1;33m.\u001b[0m\u001b[0m_txt_fmt\u001b[0m \u001b[1;33m=\u001b[0m \u001b[0mdefault_txt_fmt\u001b[0m\u001b[1;33m.\u001b[0m\u001b[0mcopy\u001b[0m\u001b[1;33m(\u001b[0m\u001b[1;33m)\u001b[0m\u001b[1;33m\u001b[0m\u001b[0m\n",
      "\u001b[1;31mIndexError\u001b[0m: list index out of range"
     ]
    }
   ],
   "source": [
    "arima_order = (0,1,0)\n",
    "arima = ARIMA(train, order=arima_order)\n",
    "arima_fit = arima.fit()\n",
    "print(arima_fit.summary())"
   ]
  },
  {
   "cell_type": "markdown",
   "metadata": {},
   "source": [
    "**Dengan pembagian split data 'df' menjadi :<br>\n",
    "    1. 90% 'dataset.csv' yang berjumlah 71<br>\n",
    "    2. 10% 'validation.csv' yang berjumlah 8 <br>\n",
    "dan pembagian train test 'dataset.csv' menjadi 50:50,\n",
    "ARIMA(0,1,0) dalam model ini tidak dapat digunakan.**<BR>\n",
    "**Maka, diperlukan untuk mengganti model ARIMA (p,d,q) dengan bantuan uji stationary, plot ACF, dan plot PACF**"
   ]
  },
  {
   "cell_type": "markdown",
   "metadata": {},
   "source": [
    "Untuk mencari model ARIMA terbaik, parameter 'd' perlu dicari dengan melihat ke-stasioner-an data, yaitu sebagai berikut"
   ]
  },
  {
   "cell_type": "code",
   "execution_count": 118,
   "metadata": {
    "scrolled": true
   },
   "outputs": [
    {
     "name": "stdout",
     "output_type": "stream",
     "text": [
      "                 Water\n",
      "Year                  \n",
      "1885-01-01         NaN\n",
      "1886-01-01         NaN\n",
      "1887-01-01         NaN\n",
      "1888-01-01         NaN\n",
      "1889-01-01         NaN\n",
      "1890-01-01         NaN\n",
      "1891-01-01         NaN\n",
      "1892-01-01         NaN\n",
      "1893-01-01         NaN\n",
      "1894-01-01         NaN\n",
      "1895-01-01         NaN\n",
      "1896-01-01  403.416667\n",
      "1897-01-01  410.333333\n",
      "1898-01-01  416.000000\n",
      "1899-01-01  421.416667\n",
      "1900-01-01  426.166667\n",
      "1901-01-01  430.833333\n",
      "1902-01-01  434.333333\n",
      "1903-01-01  434.916667\n",
      "1904-01-01  445.666667\n",
      "1905-01-01  451.333333\n",
      "1906-01-01  460.416667\n",
      "1907-01-01  465.500000\n",
      "1908-01-01  469.916667\n",
      "1909-01-01  472.166667\n",
      "1910-01-01  472.833333\n",
      "1911-01-01  473.750000\n",
      "1912-01-01  480.083333\n",
      "1913-01-01  496.166667\n",
      "1914-01-01  508.750000\n",
      "1915-01-01  516.666667\n",
      "1916-01-01  520.166667\n",
      "1917-01-01  525.833333\n",
      "1918-01-01  528.666667\n",
      "1919-01-01  530.500000                 Water\n",
      "Year                 \n",
      "1885-01-01        NaN\n",
      "1886-01-01        NaN\n",
      "1887-01-01        NaN\n",
      "1888-01-01        NaN\n",
      "1889-01-01        NaN\n",
      "1890-01-01        NaN\n",
      "1891-01-01        NaN\n",
      "1892-01-01        NaN\n",
      "1893-01-01        NaN\n",
      "1894-01-01        NaN\n",
      "1895-01-01        NaN\n",
      "1896-01-01  41.810087\n",
      "1897-01-01  40.082491\n",
      "1898-01-01  41.122876\n",
      "1899-01-01  42.645384\n",
      "1900-01-01  42.852460\n",
      "1901-01-01  44.312595\n",
      "1902-01-01  48.146242\n",
      "1903-01-01  48.853135\n",
      "1904-01-01  40.508884\n",
      "1905-01-01  36.579511\n",
      "1906-01-01  22.761444\n",
      "1907-01-01  19.491257\n",
      "1908-01-01  17.890873\n",
      "1909-01-01  15.134748\n",
      "1910-01-01  14.421154\n",
      "1911-01-01  14.013792\n",
      "1912-01-01  20.119906\n",
      "1913-01-01  55.856689\n",
      "1914-01-01  71.591169\n",
      "1915-01-01  74.753332\n",
      "1916-01-01  73.495619\n",
      "1917-01-01  70.840196\n",
      "1918-01-01  69.016906\n",
      "1919-01-01  67.919069\n"
     ]
    }
   ],
   "source": [
    "#Determine Rolling Statistics\n",
    "rolmean = pd.rolling_mean(train, window=12)\n",
    "rolstd = pd.rolling_std(train, window=12)\n",
    "print(rolmean, rolstd)"
   ]
  },
  {
   "cell_type": "code",
   "execution_count": 119,
   "metadata": {
    "scrolled": true
   },
   "outputs": [
    {
     "data": {
      "image/png": "[encoded data removed]",
      "text/plain": [
       "<matplotlib.figure.Figure at 0x1a96f298ef0>"
      ]
     },
     "metadata": {},
     "output_type": "display_data"
    }
   ],
   "source": [
    "#Plot Rolling Statistics:\n",
    "plt.figure(figsize=(15,5))\n",
    "orig = plt.plot(train, color='darksalmon',label='Original')\n",
    "mean = plt.plot(rolmean, color='blue', label='Rolling Mean')\n",
    "std = plt.plot(rolstd, color='orangered', label='Rolling Std')\n",
    "plt.legend(loc='best')\n",
    "plt.title('Rolling Mean & Standard Deviation')\n",
    "plt.show(block=False)"
   ]
  },
  {
   "cell_type": "markdown",
   "metadata": {},
   "source": [
    "Dari plot diatas dapat dilihat jika data stasioner dengan rata-rata namun tidak dengan ragam karena tidak setara dengan data. Oleh, karena itu perlu dilakukan uji hipotesis stasioner secara ragam dengan Dickey-Fuller test"
   ]
  },
  {
   "cell_type": "code",
   "execution_count": 120,
   "metadata": {},
   "outputs": [
    {
     "name": "stdout",
     "output_type": "stream",
     "text": [
      "Results of Dickey-Fuller Test:\n",
      "Test Statistic                 -2.156197\n",
      "p-value                         0.222526\n",
      "#Lags Used                      1.000000\n",
      "Number of Observations Used    33.000000\n",
      "Critical Value (1%)            -3.646135\n",
      "Critical Value (5%)            -2.954127\n",
      "Critical Value (10%)           -2.615968\n",
      "dtype: float64\n"
     ]
    }
   ],
   "source": [
    "#Perform Dickey-Fuller test:\n",
    "from statsmodels.tsa.stattools import adfuller\n",
    "\n",
    "print ('Results of Dickey-Fuller Test:')\n",
    "dftest = adfuller(train['Water'], autolag='AIC')\n",
    "\n",
    "dfoutput = pd.Series(dftest[0:4], index=['Test Statistic','p-value','#Lags Used','Number of Observations Used'])\n",
    "for key,value in dftest[4].items():\n",
    "  dfoutput['Critical Value (%s)' %key] = value\n",
    "  \n",
    "print(dfoutput)"
   ]
  },
  {
   "cell_type": "markdown",
   "metadata": {},
   "source": [
    "**Dengan uji hipotesis, dapat dilihat dari hasil diatas bahwa:**<br>\n",
    "**H0 : Not Stationary** <br>\n",
    "**H1 : Stationary** <br>\n",
    "**Maka dapat disimpulkan :** <br>\n",
    "**p-value : 0.2 > alpha : 0.05**<br>\n",
    "  =>Tak tolak H0<br>\n",
    "**Maka, 'dataset' bersifat tidak stasioner dan parameter d!=0 -> Model menjadi = ARIMA(p,d,q)**"
   ]
  },
  {
   "cell_type": "markdown",
   "metadata": {},
   "source": [
    "Untuk mencari model ARIMA terbaik, parameter 'p' dan 'q' perlu dicari dengan melihat plot ACF dan plot PACF, yaitu sebagai berikut"
   ]
  },
  {
   "cell_type": "code",
   "execution_count": 121,
   "metadata": {},
   "outputs": [
    {
     "data": {
      "image/png": "[encoded data removed]",
      "text/plain": [
       "<matplotlib.figure.Figure at 0x1a9702ffda0>"
      ]
     },
     "metadata": {},
     "output_type": "display_data"
    }
   ],
   "source": [
    "#ACF and PACF plots:\n",
    "import statsmodels.api as sm  \n",
    "from statsmodels.tsa.stattools import acf, pacf\n",
    "fig = plt.figure(figsize=(12,8))\n",
    "ax1 = fig.add_subplot(211)\n",
    "fig = sm.graphics.tsa.plot_acf(dataset['Water'][1:], lags=40, ax=ax1)   # first value of diff is NaN\n",
    "ax2 = fig.add_subplot(212)\n",
    "fig = sm.graphics.tsa.plot_pacf(dataset['Water'][1:], lags=40, ax=ax2)"
   ]
  },
  {
   "cell_type": "markdown",
   "metadata": {},
   "source": [
    "**Dapat dilihat dalam plot ACF bahwa tidak ada seasonal effect, namun terdapat lag = 5 maka dapat diasumsikan ACF = AR = order 'p' != '0' => p = 5.**<br>\n",
    "**Sementara, pada plot PACF dapat dilihat bahwa terdapat lag = 1, maka PACF = MA = order 'q' = 1.**<br>\n",
    "**Maka, model ARIMA (p,d,q) dapat menjadi : ARIMA(5,1,1) dan lain-lain dengan order 'd' != 0**"
   ]
  },
  {
   "cell_type": "code",
   "execution_count": 135,
   "metadata": {},
   "outputs": [
    {
     "data": {
      "text/plain": [
       "<matplotlib.legend.Legend at 0x1a970bb1c88>"
      ]
     },
     "execution_count": 135,
     "metadata": {},
     "output_type": "execute_result"
    },
    {
     "data": {
      "image/png": "[encoded data removed]",
      "text/plain": [
       "<matplotlib.figure.Figure at 0x1a970d6ecc0>"
      ]
     },
     "metadata": {},
     "output_type": "display_data"
    }
   ],
   "source": [
    "# fit ARIMA model\n",
    "fig = plt.figure(figsize=(20,8))\n",
    "model = ARIMA(train, order=(5,1,1)) \n",
    "ax = plt.gca()\n",
    "results = model.fit()\n",
    "#Plot Fitting Model : Prediksi vs Aktual\n",
    "plt.plot(train['Water'])\n",
    "plt.plot(results.fittedvalues, color='red')\n",
    "ax.legend(['Actual', 'Forecast'])"
   ]
  },
  {
   "cell_type": "code",
   "execution_count": 136,
   "metadata": {},
   "outputs": [
    {
     "data": {
      "text/html": [
       "<table class=\"simpletable\">\n",
       "<tr>\n",
       "        <td>Model:</td>              <td>ARIMA</td>              <td>BIC:</td>          <td>368.0452</td> \n",
       "</tr>\n",
       "<tr>\n",
       "  <td>Dependent Variable:</td>      <td>D.Water</td>        <td>Log-Likelihood:</td>     <td>-169.92</td> \n",
       "</tr>\n",
       "<tr>\n",
       "         <td>Date:</td>        <td>2019-10-10 20:03</td>        <td>Scale:</td>          <td>1.0000</td>  \n",
       "</tr>\n",
       "<tr>\n",
       "   <td>No. Observations:</td>         <td>34</td>               <td>Method:</td>         <td>css-mle</td> \n",
       "</tr>\n",
       "<tr>\n",
       "       <td>Df Model:</td>              <td>7</td>               <td>Sample:</td>       <td>01-01-1886</td>\n",
       "</tr>\n",
       "<tr>\n",
       "     <td>Df Residuals:</td>           <td>27</td>                  <td></td>           <td>01-01-1919</td>\n",
       "</tr>\n",
       "<tr>\n",
       "      <td>Converged:</td>           <td>1.0000</td>      <td>S.D. of innovations:</td>   <td>33.521</td>  \n",
       "</tr>\n",
       "<tr>\n",
       "         <td>AIC:</td>             <td>355.8343</td>             <td>HQIC:</td>          <td>359.999</td> \n",
       "</tr>\n",
       "</table>\n",
       "<table class=\"simpletable\">\n",
       "<tr>\n",
       "        <td></td>         <th>Coef.</th>  <th>Std.Err.</th>     <th>t</th>     <th>P>|t|</th> <th>[0.025</th>  <th>0.975]</th> \n",
       "</tr>\n",
       "<tr>\n",
       "  <th>const</th>         <td>5.5511</td>   <td>0.6457</td>   <td>8.5967</td>  <td>0.0000</td> <td>4.2855</td>  <td>6.8167</td> \n",
       "</tr>\n",
       "<tr>\n",
       "  <th>ar.L1.D.Water</th> <td>0.5941</td>   <td>0.1711</td>   <td>3.4715</td>  <td>0.0018</td> <td>0.2587</td>  <td>0.9296</td> \n",
       "</tr>\n",
       "<tr>\n",
       "  <th>ar.L2.D.Water</th> <td>-0.1743</td>  <td>0.1915</td>   <td>-0.9099</td> <td>0.3709</td> <td>-0.5496</td> <td>0.2011</td> \n",
       "</tr>\n",
       "<tr>\n",
       "  <th>ar.L3.D.Water</th> <td>-0.2943</td>  <td>0.1833</td>   <td>-1.6054</td> <td>0.1200</td> <td>-0.6536</td> <td>0.0650</td> \n",
       "</tr>\n",
       "<tr>\n",
       "  <th>ar.L4.D.Water</th> <td>0.0832</td>   <td>0.1967</td>   <td>0.4231</td>  <td>0.6756</td> <td>-0.3023</td> <td>0.4688</td> \n",
       "</tr>\n",
       "<tr>\n",
       "  <th>ar.L5.D.Water</th> <td>-0.2047</td>  <td>0.1705</td>   <td>-1.2003</td> <td>0.2404</td> <td>-0.5390</td> <td>0.1295</td> \n",
       "</tr>\n",
       "<tr>\n",
       "  <th>ma.L1.D.Water</th> <td>-0.9999</td>  <td>0.0886</td>  <td>-11.2845</td> <td>0.0000</td> <td>-1.1736</td> <td>-0.8263</td>\n",
       "</tr>\n",
       "</table>\n",
       "<table class=\"simpletable\">\n",
       "<tr>\n",
       "    <td></td>    <th>Real</th>   <th>Imaginary</th> <th>Modulus</th> <th>Frequency</th>\n",
       "</tr>\n",
       "<tr>\n",
       "  <th>AR.1</th> <td>0.8990</td>   <td>-0.7483</td>  <td>1.1697</td>   <td>-0.1105</td> \n",
       "</tr>\n",
       "<tr>\n",
       "  <th>AR.2</th> <td>0.8990</td>   <td>0.7483</td>   <td>1.1697</td>   <td>0.1105</td>  \n",
       "</tr>\n",
       "<tr>\n",
       "  <th>AR.3</th> <td>-1.3899</td>  <td>-0.0000</td>  <td>1.3899</td>   <td>-0.5000</td> \n",
       "</tr>\n",
       "<tr>\n",
       "  <th>AR.4</th> <td>-0.0008</td>  <td>-1.6029</td>  <td>1.6029</td>   <td>-0.2501</td> \n",
       "</tr>\n",
       "<tr>\n",
       "  <th>AR.5</th> <td>-0.0008</td>  <td>1.6029</td>   <td>1.6029</td>   <td>0.2501</td>  \n",
       "</tr>\n",
       "<tr>\n",
       "  <th>MA.1</th> <td>1.0001</td>   <td>0.0000</td>   <td>1.0001</td>   <td>0.0000</td>  \n",
       "</tr>\n",
       "</table>"
      ],
      "text/plain": [
       "<class 'statsmodels.iolib.summary2.Summary'>\n",
       "\"\"\"\n",
       "                           Results: ARIMA\n",
       "====================================================================\n",
       "Model:              ARIMA            BIC:                 368.0452  \n",
       "Dependent Variable: D.Water          Log-Likelihood:      -169.92   \n",
       "Date:               2019-10-10 20:03 Scale:               1.0000    \n",
       "No. Observations:   34               Method:              css-mle   \n",
       "Df Model:           7                Sample:              01-01-1886\n",
       "Df Residuals:       27                                    01-01-1919\n",
       "Converged:          1.0000           S.D. of innovations: 33.521    \n",
       "AIC:                355.8343         HQIC:                359.999   \n",
       "---------------------------------------------------------------------\n",
       "                 Coef.   Std.Err.     t      P>|t|    [0.025   0.975]\n",
       "---------------------------------------------------------------------\n",
       "const            5.5511    0.6457    8.5967  0.0000   4.2855   6.8167\n",
       "ar.L1.D.Water    0.5941    0.1711    3.4715  0.0018   0.2587   0.9296\n",
       "ar.L2.D.Water   -0.1743    0.1915   -0.9099  0.3709  -0.5496   0.2011\n",
       "ar.L3.D.Water   -0.2943    0.1833   -1.6054  0.1200  -0.6536   0.0650\n",
       "ar.L4.D.Water    0.0832    0.1967    0.4231  0.6756  -0.3023   0.4688\n",
       "ar.L5.D.Water   -0.2047    0.1705   -1.2003  0.2404  -0.5390   0.1295\n",
       "ma.L1.D.Water   -0.9999    0.0886  -11.2845  0.0000  -1.1736  -0.8263\n",
       "-----------------------------------------------------------------------------\n",
       "                 Real           Imaginary          Modulus          Frequency\n",
       "-----------------------------------------------------------------------------\n",
       "AR.1            0.8990            -0.7483           1.1697            -0.1105\n",
       "AR.2            0.8990             0.7483           1.1697             0.1105\n",
       "AR.3           -1.3899            -0.0000           1.3899            -0.5000\n",
       "AR.4           -0.0008            -1.6029           1.6029            -0.2501\n",
       "AR.5           -0.0008             1.6029           1.6029             0.2501\n",
       "MA.1            1.0001             0.0000           1.0001             0.0000\n",
       "====================================================================\n",
       "\n",
       "\"\"\""
      ]
     },
     "execution_count": 136,
     "metadata": {},
     "output_type": "execute_result"
    }
   ],
   "source": [
    "results.summary2()"
   ]
  },
  {
   "cell_type": "markdown",
   "metadata": {},
   "source": [
    "- When model trained, a one-step prediction made ang the prediction stored for later evaluation.<br>\n",
    "- The actual observation from the test dataset will be added to the training dataset for the next iteration.<br>"
   ]
  },
  {
   "cell_type": "markdown",
   "metadata": {},
   "source": [
    "## Prediction Analysis\n",
    "- The predictions made during the enumeration of the test dataset will be evaluated and an RMSE score reported."
   ]
  },
  {
   "cell_type": "code",
   "execution_count": 137,
   "metadata": {},
   "outputs": [
    {
     "data": {
      "text/html": [
       "<div>\n",
       "<style scoped>\n",
       "    .dataframe tbody tr th:only-of-type {\n",
       "        vertical-align: middle;\n",
       "    }\n",
       "\n",
       "    .dataframe tbody tr th {\n",
       "        vertical-align: top;\n",
       "    }\n",
       "\n",
       "    .dataframe thead th {\n",
       "        text-align: right;\n",
       "    }\n",
       "</style>\n",
       "<table border=\"1\" class=\"dataframe\">\n",
       "  <thead>\n",
       "    <tr style=\"text-align: right;\">\n",
       "      <th></th>\n",
       "      <th>prediksi</th>\n",
       "      <th>aktual</th>\n",
       "    </tr>\n",
       "    <tr>\n",
       "      <th>Year</th>\n",
       "      <th></th>\n",
       "      <th></th>\n",
       "    </tr>\n",
       "  </thead>\n",
       "  <tbody>\n",
       "    <tr>\n",
       "      <th>1920-01-01</th>\n",
       "      <td>574.86</td>\n",
       "      <td>503.0</td>\n",
       "    </tr>\n",
       "    <tr>\n",
       "      <th>1921-01-01</th>\n",
       "      <td>568.26</td>\n",
       "      <td>515.0</td>\n",
       "    </tr>\n",
       "    <tr>\n",
       "      <th>1922-01-01</th>\n",
       "      <td>566.05</td>\n",
       "      <td>522.0</td>\n",
       "    </tr>\n",
       "    <tr>\n",
       "      <th>1923-01-01</th>\n",
       "      <td>564.23</td>\n",
       "      <td>492.0</td>\n",
       "    </tr>\n",
       "    <tr>\n",
       "      <th>1924-01-01</th>\n",
       "      <td>564.71</td>\n",
       "      <td>503.0</td>\n",
       "    </tr>\n",
       "    <tr>\n",
       "      <th>1925-01-01</th>\n",
       "      <td>564.67</td>\n",
       "      <td>503.0</td>\n",
       "    </tr>\n",
       "    <tr>\n",
       "      <th>1926-01-01</th>\n",
       "      <td>564.42</td>\n",
       "      <td>450.0</td>\n",
       "    </tr>\n",
       "    <tr>\n",
       "      <th>1927-01-01</th>\n",
       "      <td>563.34</td>\n",
       "      <td>432.0</td>\n",
       "    </tr>\n",
       "    <tr>\n",
       "      <th>1928-01-01</th>\n",
       "      <td>562.18</td>\n",
       "      <td>432.0</td>\n",
       "    </tr>\n",
       "    <tr>\n",
       "      <th>1929-01-01</th>\n",
       "      <td>560.91</td>\n",
       "      <td>458.0</td>\n",
       "    </tr>\n",
       "    <tr>\n",
       "      <th>1930-01-01</th>\n",
       "      <td>559.74</td>\n",
       "      <td>462.0</td>\n",
       "    </tr>\n",
       "    <tr>\n",
       "      <th>1931-01-01</th>\n",
       "      <td>558.51</td>\n",
       "      <td>503.0</td>\n",
       "    </tr>\n",
       "    <tr>\n",
       "      <th>1932-01-01</th>\n",
       "      <td>557.22</td>\n",
       "      <td>488.0</td>\n",
       "    </tr>\n",
       "    <tr>\n",
       "      <th>1933-01-01</th>\n",
       "      <td>555.79</td>\n",
       "      <td>466.0</td>\n",
       "    </tr>\n",
       "    <tr>\n",
       "      <th>1934-01-01</th>\n",
       "      <td>554.26</td>\n",
       "      <td>492.0</td>\n",
       "    </tr>\n",
       "    <tr>\n",
       "      <th>1935-01-01</th>\n",
       "      <td>552.63</td>\n",
       "      <td>503.0</td>\n",
       "    </tr>\n",
       "    <tr>\n",
       "      <th>1936-01-01</th>\n",
       "      <td>550.92</td>\n",
       "      <td>515.0</td>\n",
       "    </tr>\n",
       "    <tr>\n",
       "      <th>1937-01-01</th>\n",
       "      <td>549.12</td>\n",
       "      <td>500.0</td>\n",
       "    </tr>\n",
       "    <tr>\n",
       "      <th>1938-01-01</th>\n",
       "      <td>547.24</td>\n",
       "      <td>522.0</td>\n",
       "    </tr>\n",
       "    <tr>\n",
       "      <th>1939-01-01</th>\n",
       "      <td>545.27</td>\n",
       "      <td>575.0</td>\n",
       "    </tr>\n",
       "    <tr>\n",
       "      <th>1940-01-01</th>\n",
       "      <td>543.21</td>\n",
       "      <td>583.0</td>\n",
       "    </tr>\n",
       "    <tr>\n",
       "      <th>1941-01-01</th>\n",
       "      <td>541.06</td>\n",
       "      <td>587.0</td>\n",
       "    </tr>\n",
       "    <tr>\n",
       "      <th>1942-01-01</th>\n",
       "      <td>538.82</td>\n",
       "      <td>628.0</td>\n",
       "    </tr>\n",
       "    <tr>\n",
       "      <th>1943-01-01</th>\n",
       "      <td>536.49</td>\n",
       "      <td>640.0</td>\n",
       "    </tr>\n",
       "    <tr>\n",
       "      <th>1944-01-01</th>\n",
       "      <td>534.07</td>\n",
       "      <td>609.0</td>\n",
       "    </tr>\n",
       "    <tr>\n",
       "      <th>1945-01-01</th>\n",
       "      <td>531.56</td>\n",
       "      <td>606.0</td>\n",
       "    </tr>\n",
       "    <tr>\n",
       "      <th>1946-01-01</th>\n",
       "      <td>528.96</td>\n",
       "      <td>632.0</td>\n",
       "    </tr>\n",
       "    <tr>\n",
       "      <th>1947-01-01</th>\n",
       "      <td>526.28</td>\n",
       "      <td>617.0</td>\n",
       "    </tr>\n",
       "    <tr>\n",
       "      <th>1948-01-01</th>\n",
       "      <td>523.50</td>\n",
       "      <td>613.0</td>\n",
       "    </tr>\n",
       "    <tr>\n",
       "      <th>1949-01-01</th>\n",
       "      <td>520.64</td>\n",
       "      <td>598.0</td>\n",
       "    </tr>\n",
       "    <tr>\n",
       "      <th>1950-01-01</th>\n",
       "      <td>517.69</td>\n",
       "      <td>575.0</td>\n",
       "    </tr>\n",
       "    <tr>\n",
       "      <th>1951-01-01</th>\n",
       "      <td>514.64</td>\n",
       "      <td>564.0</td>\n",
       "    </tr>\n",
       "    <tr>\n",
       "      <th>1952-01-01</th>\n",
       "      <td>511.51</td>\n",
       "      <td>549.0</td>\n",
       "    </tr>\n",
       "    <tr>\n",
       "      <th>1953-01-01</th>\n",
       "      <td>508.29</td>\n",
       "      <td>538.0</td>\n",
       "    </tr>\n",
       "    <tr>\n",
       "      <th>1954-01-01</th>\n",
       "      <td>504.98</td>\n",
       "      <td>568.0</td>\n",
       "    </tr>\n",
       "    <tr>\n",
       "      <th>1955-01-01</th>\n",
       "      <td>501.58</td>\n",
       "      <td>575.0</td>\n",
       "    </tr>\n",
       "  </tbody>\n",
       "</table>\n",
       "</div>"
      ],
      "text/plain": [
       "            prediksi  aktual\n",
       "Year                        \n",
       "1920-01-01    574.86   503.0\n",
       "1921-01-01    568.26   515.0\n",
       "1922-01-01    566.05   522.0\n",
       "1923-01-01    564.23   492.0\n",
       "1924-01-01    564.71   503.0\n",
       "1925-01-01    564.67   503.0\n",
       "1926-01-01    564.42   450.0\n",
       "1927-01-01    563.34   432.0\n",
       "1928-01-01    562.18   432.0\n",
       "1929-01-01    560.91   458.0\n",
       "1930-01-01    559.74   462.0\n",
       "1931-01-01    558.51   503.0\n",
       "1932-01-01    557.22   488.0\n",
       "1933-01-01    555.79   466.0\n",
       "1934-01-01    554.26   492.0\n",
       "1935-01-01    552.63   503.0\n",
       "1936-01-01    550.92   515.0\n",
       "1937-01-01    549.12   500.0\n",
       "1938-01-01    547.24   522.0\n",
       "1939-01-01    545.27   575.0\n",
       "1940-01-01    543.21   583.0\n",
       "1941-01-01    541.06   587.0\n",
       "1942-01-01    538.82   628.0\n",
       "1943-01-01    536.49   640.0\n",
       "1944-01-01    534.07   609.0\n",
       "1945-01-01    531.56   606.0\n",
       "1946-01-01    528.96   632.0\n",
       "1947-01-01    526.28   617.0\n",
       "1948-01-01    523.50   613.0\n",
       "1949-01-01    520.64   598.0\n",
       "1950-01-01    517.69   575.0\n",
       "1951-01-01    514.64   564.0\n",
       "1952-01-01    511.51   549.0\n",
       "1953-01-01    508.29   538.0\n",
       "1954-01-01    504.98   568.0\n",
       "1955-01-01    501.58   575.0"
      ]
     },
     "execution_count": 137,
     "metadata": {},
     "output_type": "execute_result"
    }
   ],
   "source": [
    "#Nilai prediksi dari model\n",
    "y_pred = arima_fit.forecast(len(test))[0]\n",
    "df_test = pd.DataFrame(y_pred, columns=['prediksi'], index=test.index)\n",
    "df_test['aktual'] = test.values\n",
    "df_test.round(2)"
   ]
  },
  {
   "cell_type": "code",
   "execution_count": 138,
   "metadata": {},
   "outputs": [
    {
     "data": {
      "text/plain": [
       "74.8015302760877"
      ]
     },
     "execution_count": 138,
     "metadata": {},
     "output_type": "execute_result"
    }
   ],
   "source": [
    "mse = mean_squared_error(df_test['aktual'], df_test['prediksi'])\n",
    "rmse = np.sqrt(mse)\n",
    "rmse"
   ]
  },
  {
   "cell_type": "markdown",
   "metadata": {},
   "source": [
    "**Dapat dilihat dari plot bahwa hasil prediksi dan aktual sangat jauh berbeda dan bahkan tidak dapat disamakan.**<br> \n",
    "**Dapat dilihat juga bahwa nilai RMSE = 74.80 yang mengindikasikan bahwa nilai error yang dihasilkan terlalu besar dan mengindikasikan model ini bukanlah model terbaik.**<br>\n",
    "**Hal ini dapat disebabkan antara lain karena:**<br>\n",
    "1. Train Test Split data yang tidak sebanding yaitu 50:50\n",
    "2. Jumlah data yang kurang banyak sehingga tidak dapat memberikan hasil analisis yang terbaik\n",
    "3. Kurangnya analisis lebih lanjut terkait kombinasi model ARIMA dengan parameter terbaik"
   ]
  },
  {
   "cell_type": "markdown",
   "metadata": {},
   "source": [
    "## 6. Calculate the RMSE using the helper function from the scikit-learn library, from dataset only\n",
    "- Those RMSE will show you on average, how much the error/the model was wrong/gap between predection and expected value per capita per day for each prediction made."
   ]
  },
  {
   "cell_type": "markdown",
   "metadata": {},
   "source": [
    "Memvalidasi model menggunakan data 'validation.csv'. Model yang digunakan untuk vvalidasi ini adalah model dengan 'dataset.csv'"
   ]
  },
  {
   "cell_type": "code",
   "execution_count": 142,
   "metadata": {},
   "outputs": [
    {
     "data": {
      "text/html": [
       "<div>\n",
       "<style scoped>\n",
       "    .dataframe tbody tr th:only-of-type {\n",
       "        vertical-align: middle;\n",
       "    }\n",
       "\n",
       "    .dataframe tbody tr th {\n",
       "        vertical-align: top;\n",
       "    }\n",
       "\n",
       "    .dataframe thead th {\n",
       "        text-align: right;\n",
       "    }\n",
       "</style>\n",
       "<table border=\"1\" class=\"dataframe\">\n",
       "  <thead>\n",
       "    <tr style=\"text-align: right;\">\n",
       "      <th></th>\n",
       "      <th>Water</th>\n",
       "    </tr>\n",
       "    <tr>\n",
       "      <th>Year</th>\n",
       "      <th></th>\n",
       "    </tr>\n",
       "  </thead>\n",
       "  <tbody>\n",
       "    <tr>\n",
       "      <th>1956-01-01</th>\n",
       "      <td>579.0</td>\n",
       "    </tr>\n",
       "    <tr>\n",
       "      <th>1957-01-01</th>\n",
       "      <td>587.0</td>\n",
       "    </tr>\n",
       "    <tr>\n",
       "      <th>1958-01-01</th>\n",
       "      <td>602.0</td>\n",
       "    </tr>\n",
       "    <tr>\n",
       "      <th>1959-01-01</th>\n",
       "      <td>594.0</td>\n",
       "    </tr>\n",
       "    <tr>\n",
       "      <th>1960-01-01</th>\n",
       "      <td>587.0</td>\n",
       "    </tr>\n",
       "  </tbody>\n",
       "</table>\n",
       "</div>"
      ],
      "text/plain": [
       "            Water\n",
       "Year             \n",
       "1956-01-01  579.0\n",
       "1957-01-01  587.0\n",
       "1958-01-01  602.0\n",
       "1959-01-01  594.0\n",
       "1960-01-01  587.0"
      ]
     },
     "execution_count": 142,
     "metadata": {},
     "output_type": "execute_result"
    }
   ],
   "source": [
    "valid = pd.read_csv('validation.csv')\n",
    "valid['Year'] = pd.to_datetime(valid['Year'], format='%Y')\n",
    "valid = valid.set_index(valid['Year'])\n",
    "valid.drop(columns=['Year'], inplace=True)\n",
    "valid = valid.astype('float64')\n",
    "valid.head()"
   ]
  },
  {
   "cell_type": "code",
   "execution_count": 147,
   "metadata": {},
   "outputs": [],
   "source": [
    "dataset = pd.read_csv('dataset.csv')\n",
    "dataset['Year'] = pd.to_datetime(dataset['Year'], format='%Y')\n",
    "dataset = dataset.set_index(dataset['Year'])\n",
    "dataset.drop(columns=['Year'], inplace=True)\n",
    "dataset = dataset.astype('float64')"
   ]
  },
  {
   "cell_type": "code",
   "execution_count": 148,
   "metadata": {},
   "outputs": [
    {
     "data": {
      "text/html": [
       "<div>\n",
       "<style scoped>\n",
       "    .dataframe tbody tr th:only-of-type {\n",
       "        vertical-align: middle;\n",
       "    }\n",
       "\n",
       "    .dataframe tbody tr th {\n",
       "        vertical-align: top;\n",
       "    }\n",
       "\n",
       "    .dataframe thead th {\n",
       "        text-align: right;\n",
       "    }\n",
       "</style>\n",
       "<table border=\"1\" class=\"dataframe\">\n",
       "  <thead>\n",
       "    <tr style=\"text-align: right;\">\n",
       "      <th></th>\n",
       "      <th>Water</th>\n",
       "    </tr>\n",
       "    <tr>\n",
       "      <th>Year</th>\n",
       "      <th></th>\n",
       "    </tr>\n",
       "  </thead>\n",
       "  <tbody>\n",
       "    <tr>\n",
       "      <th>1885-01-01</th>\n",
       "      <td>356.0</td>\n",
       "    </tr>\n",
       "    <tr>\n",
       "      <th>1886-01-01</th>\n",
       "      <td>386.0</td>\n",
       "    </tr>\n",
       "    <tr>\n",
       "      <th>1887-01-01</th>\n",
       "      <td>397.0</td>\n",
       "    </tr>\n",
       "    <tr>\n",
       "      <th>1888-01-01</th>\n",
       "      <td>397.0</td>\n",
       "    </tr>\n",
       "    <tr>\n",
       "      <th>1889-01-01</th>\n",
       "      <td>413.0</td>\n",
       "    </tr>\n",
       "  </tbody>\n",
       "</table>\n",
       "</div>"
      ],
      "text/plain": [
       "            Water\n",
       "Year             \n",
       "1885-01-01  356.0\n",
       "1886-01-01  386.0\n",
       "1887-01-01  397.0\n",
       "1888-01-01  397.0\n",
       "1889-01-01  413.0"
      ]
     },
     "execution_count": 148,
     "metadata": {},
     "output_type": "execute_result"
    }
   ],
   "source": [
    "dataset.head()"
   ]
  },
  {
   "cell_type": "code",
   "execution_count": 158,
   "metadata": {},
   "outputs": [
    {
     "data": {
      "text/html": [
       "<table class=\"simpletable\">\n",
       "<tr>\n",
       "        <td>Model:</td>              <td>ARIMA</td>              <td>BIC:</td>          <td>718.2617</td> \n",
       "</tr>\n",
       "<tr>\n",
       "  <td>Dependent Variable:</td>      <td>D.Water</td>        <td>Log-Likelihood:</td>     <td>-342.14</td> \n",
       "</tr>\n",
       "<tr>\n",
       "         <td>Date:</td>        <td>2019-10-10 20:08</td>        <td>Scale:</td>          <td>1.0000</td>  \n",
       "</tr>\n",
       "<tr>\n",
       "   <td>No. Observations:</td>         <td>70</td>               <td>Method:</td>         <td>css-mle</td> \n",
       "</tr>\n",
       "<tr>\n",
       "       <td>Df Model:</td>              <td>7</td>               <td>Sample:</td>       <td>01-01-1886</td>\n",
       "</tr>\n",
       "<tr>\n",
       "     <td>Df Residuals:</td>           <td>63</td>                  <td></td>           <td>01-01-1955</td>\n",
       "</tr>\n",
       "<tr>\n",
       "      <td>Converged:</td>           <td>1.0000</td>      <td>S.D. of innovations:</td>   <td>31.526</td>  \n",
       "</tr>\n",
       "<tr>\n",
       "         <td>AIC:</td>             <td>700.2737</td>             <td>HQIC:</td>          <td>707.419</td> \n",
       "</tr>\n",
       "</table>\n",
       "<table class=\"simpletable\">\n",
       "<tr>\n",
       "        <td></td>         <th>Coef.</th>  <th>Std.Err.</th>     <th>t</th>     <th>P>|t|</th> <th>[0.025</th>  <th>0.975]</th> \n",
       "</tr>\n",
       "<tr>\n",
       "  <th>const</th>         <td>2.7369</td>   <td>0.6952</td>   <td>3.9370</td>  <td>0.0002</td> <td>1.3744</td>  <td>4.0995</td> \n",
       "</tr>\n",
       "<tr>\n",
       "  <th>ar.L1.D.Water</th> <td>0.9123</td>   <td>0.1200</td>   <td>7.6010</td>  <td>0.0000</td> <td>0.6770</td>  <td>1.1475</td> \n",
       "</tr>\n",
       "<tr>\n",
       "  <th>ar.L2.D.Water</th> <td>-0.1284</td>  <td>0.1591</td>   <td>-0.8072</td> <td>0.4226</td> <td>-0.4403</td> <td>0.1834</td> \n",
       "</tr>\n",
       "<tr>\n",
       "  <th>ar.L3.D.Water</th> <td>-0.1329</td>  <td>0.1590</td>   <td>-0.8360</td> <td>0.4063</td> <td>-0.4446</td> <td>0.1788</td> \n",
       "</tr>\n",
       "<tr>\n",
       "  <th>ar.L4.D.Water</th> <td>0.1638</td>   <td>0.1584</td>   <td>1.0338</td>  <td>0.3052</td> <td>-0.1467</td> <td>0.4743</td> \n",
       "</tr>\n",
       "<tr>\n",
       "  <th>ar.L5.D.Water</th> <td>-0.0493</td>  <td>0.1184</td>   <td>-0.4159</td> <td>0.6789</td> <td>-0.2814</td> <td>0.1829</td> \n",
       "</tr>\n",
       "<tr>\n",
       "  <th>ma.L1.D.Water</th> <td>-0.9999</td>  <td>0.0407</td>  <td>-24.5878</td> <td>0.0000</td> <td>-1.0796</td> <td>-0.9202</td>\n",
       "</tr>\n",
       "</table>\n",
       "<table class=\"simpletable\">\n",
       "<tr>\n",
       "    <td></td>    <th>Real</th>   <th>Imaginary</th> <th>Modulus</th> <th>Frequency</th>\n",
       "</tr>\n",
       "<tr>\n",
       "  <th>AR.1</th> <td>-1.7380</td>  <td>-0.0000</td>  <td>1.7380</td>   <td>-0.5000</td> \n",
       "</tr>\n",
       "<tr>\n",
       "  <th>AR.2</th> <td>0.6052</td>   <td>-1.7547</td>  <td>1.8562</td>   <td>-0.1971</td> \n",
       "</tr>\n",
       "<tr>\n",
       "  <th>AR.3</th> <td>0.6052</td>   <td>1.7547</td>   <td>1.8562</td>   <td>0.1971</td>  \n",
       "</tr>\n",
       "<tr>\n",
       "  <th>AR.4</th> <td>1.3602</td>   <td>-0.0000</td>  <td>1.3602</td>   <td>-0.0000</td> \n",
       "</tr>\n",
       "<tr>\n",
       "  <th>AR.5</th> <td>2.4928</td>   <td>-0.0000</td>  <td>2.4928</td>   <td>-0.0000</td> \n",
       "</tr>\n",
       "<tr>\n",
       "  <th>MA.1</th> <td>1.0001</td>   <td>0.0000</td>   <td>1.0001</td>   <td>0.0000</td>  \n",
       "</tr>\n",
       "</table>"
      ],
      "text/plain": [
       "<class 'statsmodels.iolib.summary2.Summary'>\n",
       "\"\"\"\n",
       "                           Results: ARIMA\n",
       "====================================================================\n",
       "Model:              ARIMA            BIC:                 718.2617  \n",
       "Dependent Variable: D.Water          Log-Likelihood:      -342.14   \n",
       "Date:               2019-10-10 20:08 Scale:               1.0000    \n",
       "No. Observations:   70               Method:              css-mle   \n",
       "Df Model:           7                Sample:              01-01-1886\n",
       "Df Residuals:       63                                    01-01-1955\n",
       "Converged:          1.0000           S.D. of innovations: 31.526    \n",
       "AIC:                700.2737         HQIC:                707.419   \n",
       "---------------------------------------------------------------------\n",
       "                 Coef.   Std.Err.     t      P>|t|    [0.025   0.975]\n",
       "---------------------------------------------------------------------\n",
       "const            2.7369    0.6952    3.9370  0.0002   1.3744   4.0995\n",
       "ar.L1.D.Water    0.9123    0.1200    7.6010  0.0000   0.6770   1.1475\n",
       "ar.L2.D.Water   -0.1284    0.1591   -0.8072  0.4226  -0.4403   0.1834\n",
       "ar.L3.D.Water   -0.1329    0.1590   -0.8360  0.4063  -0.4446   0.1788\n",
       "ar.L4.D.Water    0.1638    0.1584    1.0338  0.3052  -0.1467   0.4743\n",
       "ar.L5.D.Water   -0.0493    0.1184   -0.4159  0.6789  -0.2814   0.1829\n",
       "ma.L1.D.Water   -0.9999    0.0407  -24.5878  0.0000  -1.0796  -0.9202\n",
       "-----------------------------------------------------------------------------\n",
       "                 Real           Imaginary          Modulus          Frequency\n",
       "-----------------------------------------------------------------------------\n",
       "AR.1           -1.7380            -0.0000           1.7380            -0.5000\n",
       "AR.2            0.6052            -1.7547           1.8562            -0.1971\n",
       "AR.3            0.6052             1.7547           1.8562             0.1971\n",
       "AR.4            1.3602            -0.0000           1.3602            -0.0000\n",
       "AR.5            2.4928            -0.0000           2.4928            -0.0000\n",
       "MA.1            1.0001             0.0000           1.0001             0.0000\n",
       "====================================================================\n",
       "\n",
       "\"\"\""
      ]
     },
     "execution_count": 158,
     "metadata": {},
     "output_type": "execute_result"
    }
   ],
   "source": [
    "# fit ARIMA model\n",
    "model = ARIMA(dataset, order=(5,1,1)) \n",
    "results = model.fit()\n",
    "results.summary2()"
   ]
  },
  {
   "cell_type": "code",
   "execution_count": 154,
   "metadata": {},
   "outputs": [
    {
     "data": {
      "text/html": [
       "<div>\n",
       "<style scoped>\n",
       "    .dataframe tbody tr th:only-of-type {\n",
       "        vertical-align: middle;\n",
       "    }\n",
       "\n",
       "    .dataframe tbody tr th {\n",
       "        vertical-align: top;\n",
       "    }\n",
       "\n",
       "    .dataframe thead th {\n",
       "        text-align: right;\n",
       "    }\n",
       "</style>\n",
       "<table border=\"1\" class=\"dataframe\">\n",
       "  <thead>\n",
       "    <tr style=\"text-align: right;\">\n",
       "      <th></th>\n",
       "      <th>prediksi</th>\n",
       "      <th>aktual</th>\n",
       "    </tr>\n",
       "    <tr>\n",
       "      <th>Year</th>\n",
       "      <th></th>\n",
       "      <th></th>\n",
       "    </tr>\n",
       "  </thead>\n",
       "  <tbody>\n",
       "    <tr>\n",
       "      <th>1956-01-01</th>\n",
       "      <td>584.42</td>\n",
       "      <td>579.0</td>\n",
       "    </tr>\n",
       "    <tr>\n",
       "      <th>1957-01-01</th>\n",
       "      <td>587.70</td>\n",
       "      <td>587.0</td>\n",
       "    </tr>\n",
       "    <tr>\n",
       "      <th>1958-01-01</th>\n",
       "      <td>594.65</td>\n",
       "      <td>602.0</td>\n",
       "    </tr>\n",
       "    <tr>\n",
       "      <th>1959-01-01</th>\n",
       "      <td>599.63</td>\n",
       "      <td>594.0</td>\n",
       "    </tr>\n",
       "    <tr>\n",
       "      <th>1960-01-01</th>\n",
       "      <td>604.68</td>\n",
       "      <td>587.0</td>\n",
       "    </tr>\n",
       "    <tr>\n",
       "      <th>1961-01-01</th>\n",
       "      <td>608.44</td>\n",
       "      <td>587.0</td>\n",
       "    </tr>\n",
       "    <tr>\n",
       "      <th>1962-01-01</th>\n",
       "      <td>612.18</td>\n",
       "      <td>625.0</td>\n",
       "    </tr>\n",
       "    <tr>\n",
       "      <th>1963-01-01</th>\n",
       "      <td>615.56</td>\n",
       "      <td>613.0</td>\n",
       "    </tr>\n",
       "  </tbody>\n",
       "</table>\n",
       "</div>"
      ],
      "text/plain": [
       "            prediksi  aktual\n",
       "Year                        \n",
       "1956-01-01    584.42   579.0\n",
       "1957-01-01    587.70   587.0\n",
       "1958-01-01    594.65   602.0\n",
       "1959-01-01    599.63   594.0\n",
       "1960-01-01    604.68   587.0\n",
       "1961-01-01    608.44   587.0\n",
       "1962-01-01    612.18   625.0\n",
       "1963-01-01    615.56   613.0"
      ]
     },
     "execution_count": 154,
     "metadata": {},
     "output_type": "execute_result"
    }
   ],
   "source": [
    "#Nilai prediksi dari validation\n",
    "y_pred = arima_fit.forecast(len(valid))[0]\n",
    "df_valid = pd.DataFrame(y_pred, columns=['prediksi'], index=valid.index)\n",
    "df_valid['aktual'] = valid.values\n",
    "df_valid.round(2)"
   ]
  },
  {
   "cell_type": "code",
   "execution_count": 155,
   "metadata": {},
   "outputs": [
    {
     "data": {
      "text/plain": [
       "11.504436049280256"
      ]
     },
     "execution_count": 155,
     "metadata": {},
     "output_type": "execute_result"
    }
   ],
   "source": [
    "mse = mean_squared_error(df_valid['aktual'], df_valid['prediksi'])\n",
    "rmse = np.sqrt(mse)\n",
    "rmse"
   ]
  },
  {
   "cell_type": "markdown",
   "metadata": {},
   "source": [
    "## Kesimpulan : \n",
    "\n",
    "Dari analsis di atas, bisa dilihat metode time series sangat berguna dalam memprediksi perkembangan trend dari suatu data yang dalam hal ini adalah penggunaan air tahunan di Baltimore. Dari analisis di atas, terdapat data tahun dan penggunaan air setiap tahunnya dari tahun 1885 hingga 1963. Dengan perhitungan, time series ini dapat digunakan untuk memprediksi penggunaan air tahunan di tahun selanjutnya dimana dari data 'water.csv' data dibagi menjadi dua, yaitu:<br>\n",
    "1. dataset.csv (90%, 1885-1955) => yang digunakan untuk pembentukan model, dengan model dibagi lagi menjadi train dan test data. <br>\n",
    "2. validation.csv (10%, 1956-1963) => yang digunakan untuk memvalidasi model yang terbentuk\n",
    "\n",
    "Dapat dilihat bahwa model ARIMA terbaik dalam analisis ini adalah **ARIMA = (5,1,1)** <br>\n",
    "dengan :<bR>\n",
    "Hasil RMSE pada model development dengan data 'dataset.csv' adalah **74.80**<br>\n",
    "Hasil RMSE pada data validation model denga data 'validation.csv' adalah **11.50**<br>\n",
    "    \n",
    "Dari hasil RMSE tersebut dapat dilihat bahwa model bukan merupakan model terbaik. Saat dilakukan training testing dengan model 'dataset.csv', hasil RMSE menunjukkan error model yang masih besar namun saat digunakan untuk memprediksi data validasi 'validation.csv' model memberikan hasil prediksi dengan nilai RMSE yang jauh lebih baik walaupun belum memenuhi kondisi ideal juga. Dalam hal ini, dapat disimpulkan bahwa model ini bukan merupakan model terbaik untuk beberapa data dengan kondisi tertentu.<br>\n",
    "Walau begitu model ARIMA ini tetap dapat digunakan untuk memprediksi data namun tidak dengan akurasi yang tinggi ataupun error yang rendah. Hal ini dapat ditingkatkan lagi dengan analisis lebih lanjut terkait parameter model ARIMA(p, d, q) yang mungkin dapat dilakukan tuning parameter dengan percobaan-percobaan yang lebih ekstra lagi.<br>\n",
    "\n",
    "Hasil dari prediksi penggunaan air tahunan di Baltimore menggunakan model ARIMA ini dapat digunakan antara lain, untuk:\n",
    "1. Mengetahui persediaan air yang harus disiapkan untuk tahun berikutnya\n",
    "2. Pencegahan terjadinya kekurangan air di daerah-daerah\n",
    "3. Pengecekan kemungkinan terjadinya fraud atau hal-hal yang berkelainan dari penggunaan air normal di setiap tahunnya\n",
    "4. Meminimalisasi kerugian ataupun kecurangan dari berbagai pihak\n",
    "5. dsb"
   ]
  },
  {
   "cell_type": "code",
   "execution_count": null,
   "metadata": {},
   "outputs": [],
   "source": []
  }
 ],
 "metadata": {
  "kernelspec": {
   "display_name": "Python 3",
   "language": "python",
   "name": "python3"
  },
  "language_info": {
   "codemirror_mode": {
    "name": "ipython",
    "version": 3
   },
   "file_extension": ".py",
   "mimetype": "text/x-python",
   "name": "python",
   "nbconvert_exporter": "python",
   "pygments_lexer": "ipython3",
   "version": "3.6.4"
  }
 },
 "nbformat": 4,
 "nbformat_minor": 2
}
